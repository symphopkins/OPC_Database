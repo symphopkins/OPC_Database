{
    "metadata": {
        "kernelspec": {
            "name": "SQL",
            "display_name": "SQL",
            "language": "sql"
        },
        "language_info": {
            "name": "sql",
            "version": ""
        }
    },
    "nbformat_minor": 2,
    "nbformat": 4,
    "cells": [
        {
            "cell_type": "markdown",
            "source": [
                "# **Building the OPC Database**\n",
                "\n",
                "## <span style=\"font-size: 14px; font-family: -apple-system, BlinkMacSystemFont, sans-serif; color: var(--vscode-foreground);\">Symphony Hopkins</span>  \n",
                "\n",
                "September 5, 2022"
            ],
            "metadata": {
                "azdata_cell_guid": "800afac1-723c-43d8-bed1-9a1473526a3d"
            },
            "attachments": {}
        },
        {
            "cell_type": "markdown",
            "source": [
                "## <span style=\"font-family: -apple-system, BlinkMacSystemFont, sans-serif; color: var(--vscode-foreground);\"><b>Building Database Schema</b></span>"
            ],
            "metadata": {
                "azdata_cell_guid": "d1e27407-36df-4224-b2ed-d7ed1718682c",
                "language": ""
            },
            "attachments": {}
        },
        {
            "cell_type": "code",
            "source": [
                "CREATE SCHEMA dsci_504;"
            ],
            "metadata": {
                "azdata_cell_guid": "419eb9c2-7317-48b2-a353-a893555b0e82",
                "language": "sql"
            },
            "outputs": [
                {
                    "output_type": "display_data",
                    "data": {
                        "text/html": "Commands completed successfully"
                    },
                    "metadata": {}
                },
                {
                    "output_type": "display_data",
                    "data": {
                        "text/html": "Total execution time: 00:00:00.001"
                    },
                    "metadata": {}
                }
            ],
            "execution_count": 159
        },
        {
            "cell_type": "code",
            "source": [
                "CREATE TABLE dsci_504.builds (\n",
                "    build_id SMALLINT,\n",
                "    comp_hbar VARCHAR(50),\n",
                "    comp_brake VARCHAR(50),\n",
                "    comp_wheels VARCHAR(50),\n",
                "    comp_fork VARCHAR(50),\n",
                "    comp_shock VARCHAR(50),\n",
                "    comp_shifter VARCHAR(50),\n",
                "    comp_cassette VARCHAR(50),\n",
                "    comp_derail VARCHAR(50),\n",
                "    comp_dropper VARCHAR(50),\n",
                "    comp_crank VARCHAR(50),\n",
                "    comp_chain_ring VARCHAR(50),\n",
                "    build_name VARCHAR(25)\n",
                ")"
            ],
            "metadata": {
                "azdata_cell_guid": "8d49639f-c115-41cd-b84c-0bd932019f15",
                "language": "sql"
            },
            "outputs": [
                {
                    "output_type": "display_data",
                    "data": {
                        "text/html": "Commands completed successfully"
                    },
                    "metadata": {}
                },
                {
                    "output_type": "display_data",
                    "data": {
                        "text/html": "Total execution time: 00:00:00.042"
                    },
                    "metadata": {}
                }
            ],
            "execution_count": 160
        },
        {
            "cell_type": "code",
            "source": [
                "CREATE TABLE dsci_504.components (\n",
                "    comp_id INTEGER,\n",
                "    comp_name VARCHAR(35),\n",
                "    comp_cost NUMERIC,\n",
                "    comp_supplier INTEGER,\n",
                "    comp_cat VARCHAR(25),\n",
                "    sup_id INTEGER\n",
                ");"
            ],
            "metadata": {
                "language": "sql",
                "azdata_cell_guid": "62440d5f-5c0a-47fc-bfb9-d15533be5aa7"
            },
            "outputs": [
                {
                    "output_type": "display_data",
                    "data": {
                        "text/html": "Commands completed successfully"
                    },
                    "metadata": {}
                },
                {
                    "output_type": "display_data",
                    "data": {
                        "text/html": "Total execution time: 00:00:00.002"
                    },
                    "metadata": {}
                }
            ],
            "execution_count": 161
        },
        {
            "cell_type": "code",
            "source": [
                "CREATE TABLE dsci_504.customers (\n",
                "    cus_id INTEGER,\n",
                "    cus_num VARCHAR(25),\n",
                "    cus_last_name VARCHAR(50),\n",
                "    cus_first_name VARCHAR(50),\n",
                "    cus_add_num\t BIGINT,\n",
                "    cus_address VARCHAR(100),\n",
                "    cus_city VARCHAR(50),\n",
                "    cus_state SMALLINT,\n",
                "    cus_zip BIGINT,\n",
                "    cus_phone BIGINT,\n",
                "    cus_join_date DATE,\n",
                "    cus_app_cd SMALLINT,\n",
                "    cus_app_num VARCHAR(30),\n",
                "    tot_ord_qty SMALLINT,\n",
                "    tot_ord_value NUMERIC\n",
                ")"
            ],
            "metadata": {
                "language": "sql",
                "azdata_cell_guid": "d48948f8-11cb-4839-ae97-8a77f5b24abe"
            },
            "outputs": [
                {
                    "output_type": "display_data",
                    "data": {
                        "text/html": "Commands completed successfully"
                    },
                    "metadata": {}
                },
                {
                    "output_type": "display_data",
                    "data": {
                        "text/html": "Total execution time: 00:00:00.002"
                    },
                    "metadata": {}
                }
            ],
            "execution_count": 162
        },
        {
            "cell_type": "code",
            "source": [
                "CREATE TABLE dsci_504.customerwarehouseorders (\n",
                "    cus_id INTEGER,\n",
                "    warehouse_id INTEGER,\n",
                "    ord_id INTEGER\n",
                ")"
            ],
            "metadata": {
                "language": "sql",
                "azdata_cell_guid": "bc342387-7f25-42d3-b488-1ad474abf4ed",
                "tags": []
            },
            "outputs": [
                {
                    "output_type": "display_data",
                    "data": {
                        "text/html": "Commands completed successfully"
                    },
                    "metadata": {}
                },
                {
                    "output_type": "display_data",
                    "data": {
                        "text/html": "Total execution time: 00:00:00.001"
                    },
                    "metadata": {}
                }
            ],
            "execution_count": 163
        },
        {
            "cell_type": "code",
            "source": [
                "CREATE TABLE dsci_504.customerwarehousereturns (\n",
                "    cus_id INTEGER,\n",
                "    warehouse_id INTEGER,\n",
                "    ord_id INTEGER,\n",
                "    rac_id INTEGER\n",
                ")"
            ],
            "metadata": {
                "language": "sql",
                "azdata_cell_guid": "8bd03a00-2aa0-42d2-9981-ffde6ec9b9d6"
            },
            "outputs": [
                {
                    "output_type": "display_data",
                    "data": {
                        "text/html": "Commands completed successfully"
                    },
                    "metadata": {}
                },
                {
                    "output_type": "display_data",
                    "data": {
                        "text/html": "Total execution time: 00:00:00.001"
                    },
                    "metadata": {}
                }
            ],
            "execution_count": 164
        },
        {
            "cell_type": "code",
            "source": [
                "CREATE TABLE dsci_504.orders (\n",
                "    ord_id INTEGER,\n",
                "\tord_date DATE,\n",
                "\tord_tax_loc CHAR(2),\n",
                "\torder_tot NUMERIC,\n",
                "\tord_ship_add TEXT,\n",
                "\tord_ship_date DATE,\n",
                "\tord_track_num CHAR(16),\n",
                "\tprod_id INTEGER,\n",
                "\twarehouse_id INTEGER,\n",
                "\tcus_id INTEGER\n",
                ")"
            ],
            "metadata": {
                "language": "sql",
                "azdata_cell_guid": "07bf908f-9626-479c-9645-3ec0baa0fc28"
            },
            "outputs": [
                {
                    "output_type": "display_data",
                    "data": {
                        "text/html": "Commands completed successfully"
                    },
                    "metadata": {}
                },
                {
                    "output_type": "display_data",
                    "data": {
                        "text/html": "Total execution time: 00:00:00.003"
                    },
                    "metadata": {}
                }
            ],
            "execution_count": 165
        },
        {
            "cell_type": "code",
            "source": [
                "CREATE TABLE dsci_504.ordertaxes (\n",
                "    ord_id INTEGER,\n",
                "    ord_date DATE,\n",
                "    tax_rate NUMERIC\n",
                ")"
            ],
            "metadata": {
                "language": "sql",
                "azdata_cell_guid": "2ffc02c8-03b6-4a50-a3c3-e79554baf380"
            },
            "outputs": [
                {
                    "output_type": "display_data",
                    "data": {
                        "text/html": "Commands completed successfully"
                    },
                    "metadata": {}
                },
                {
                    "output_type": "display_data",
                    "data": {
                        "text/html": "Total execution time: 00:00:00.003"
                    },
                    "metadata": {}
                }
            ],
            "execution_count": 166
        },
        {
            "cell_type": "code",
            "source": [
                "CREATE TABLE dsci_504.productbuilds (\n",
                "    prod_id INTEGER,\n",
                "    build_id INTEGER\n",
                ")"
            ],
            "metadata": {
                "language": "sql",
                "azdata_cell_guid": "8494d98a-fc62-45bb-97c1-d258eb48b62c"
            },
            "outputs": [
                {
                    "output_type": "display_data",
                    "data": {
                        "text/html": "Commands completed successfully"
                    },
                    "metadata": {}
                },
                {
                    "output_type": "display_data",
                    "data": {
                        "text/html": "Total execution time: 00:00:00.001"
                    },
                    "metadata": {}
                }
            ],
            "execution_count": 167
        },
        {
            "cell_type": "code",
            "source": [
                "CREATE TABLE dsci_504.products (\n",
                "    prod_id SMALLINT,\n",
                "    prod_cat_name VARCHAR(50),\n",
                "    prod_manufacturer VARCHAR(50),\n",
                "    prod_name VARCHAR(50),\n",
                "    prod_description VARCHAR(50),\n",
                "    prod_price NUMERIC,\n",
                "    prod_class VARCHAR(25),\n",
                "    country_origin VARCHAR(10),\n",
                "    sup_id INTEGER\n",
                ")"
            ],
            "metadata": {
                "language": "sql",
                "azdata_cell_guid": "30206938-beb2-44c9-ba36-aca8f4fce24e"
            },
            "outputs": [
                {
                    "output_type": "display_data",
                    "data": {
                        "text/html": "Commands completed successfully"
                    },
                    "metadata": {}
                },
                {
                    "output_type": "display_data",
                    "data": {
                        "text/html": "Total execution time: 00:00:00.004"
                    },
                    "metadata": {}
                }
            ],
            "execution_count": 168
        },
        {
            "cell_type": "code",
            "source": [
                "--Column ord_id was duplicated, so I had to delete it.\n",
                "--Ord_id values were to big for SMALLINT, so I had to convert it to INTEGER.\n",
                "\n",
                "CREATE TABLE dsci_504.racs (\n",
                "    rac_id SMALLINT,\n",
                "\ttot_ret_item_cnt SMALLINT,\n",
                "\ttot_ret_amnt NUMERIC,\n",
                "\tcus_id SMALLINT,\n",
                "\twarehouse_id SMALLINT,\n",
                "\tprod_id SMALLINT,\n",
                "\tord_id INTEGER,\n",
                "\tcomp_id\tSMALLINT\n",
                ")"
            ],
            "metadata": {
                "language": "sql",
                "azdata_cell_guid": "e2bf40f9-3526-4fbb-9b88-e2e95e59c719",
                "tags": []
            },
            "outputs": [
                {
                    "output_type": "display_data",
                    "data": {
                        "text/html": "Commands completed successfully"
                    },
                    "metadata": {}
                },
                {
                    "output_type": "display_data",
                    "data": {
                        "text/html": "Total execution time: 00:00:00.003"
                    },
                    "metadata": {}
                }
            ],
            "execution_count": 169
        },
        {
            "cell_type": "code",
            "source": [
                "CREATE TABLE dsci_504.states (\n",
                "    state_id SMALLINT,\n",
                "    state VARCHAR(2)\n",
                ")"
            ],
            "metadata": {
                "language": "sql",
                "azdata_cell_guid": "b2e731dc-7243-4272-bc9e-a6a47bf208b7",
                "tags": []
            },
            "outputs": [
                {
                    "output_type": "display_data",
                    "data": {
                        "text/html": "Commands completed successfully"
                    },
                    "metadata": {}
                },
                {
                    "output_type": "display_data",
                    "data": {
                        "text/html": "Total execution time: 00:00:00.002"
                    },
                    "metadata": {}
                }
            ],
            "execution_count": 170
        },
        {
            "cell_type": "code",
            "source": [
                "CREATE TABLE dsci_504.suppliers (\n",
                "    sup_id INTEGER,\n",
                "    sup_name VARCHAR(35),\n",
                "    sup_ctry VARCHAR(30)\n",
                ")"
            ],
            "metadata": {
                "language": "sql",
                "azdata_cell_guid": "22c10581-b8ea-4461-a94d-27dc7606a322"
            },
            "outputs": [
                {
                    "output_type": "display_data",
                    "data": {
                        "text/html": "Commands completed successfully"
                    },
                    "metadata": {}
                },
                {
                    "output_type": "display_data",
                    "data": {
                        "text/html": "Total execution time: 00:00:00.003"
                    },
                    "metadata": {}
                }
            ],
            "execution_count": 171
        },
        {
            "cell_type": "code",
            "source": [
                "CREATE TABLE dsci_504.taxes (\n",
                "    tax_id SMALLINT,\n",
                "    tax_location VARCHAR(2),\n",
                "    tax_rate NUMERIC\n",
                ")"
            ],
            "metadata": {
                "language": "sql",
                "azdata_cell_guid": "5a140f99-8d4a-44a7-8a0b-554736517cd4"
            },
            "outputs": [
                {
                    "output_type": "display_data",
                    "data": {
                        "text/html": "Commands completed successfully"
                    },
                    "metadata": {}
                },
                {
                    "output_type": "display_data",
                    "data": {
                        "text/html": "Total execution time: 00:00:00.004"
                    },
                    "metadata": {}
                }
            ],
            "execution_count": 172
        },
        {
            "cell_type": "code",
            "source": [
                "CREATE TABLE dsci_504.warehouses (\n",
                "    warehouse_id SMALLINT,\n",
                "    warehouse_name VARCHAR(25),\n",
                "    warehouse_state SMALLINT\n",
                ")"
            ],
            "metadata": {
                "language": "sql",
                "azdata_cell_guid": "cc51d84d-5ce5-49cd-bc84-9ac5d4241667"
            },
            "outputs": [
                {
                    "output_type": "display_data",
                    "data": {
                        "text/html": "Commands completed successfully"
                    },
                    "metadata": {}
                },
                {
                    "output_type": "display_data",
                    "data": {
                        "text/html": "Total execution time: 00:00:00.001"
                    },
                    "metadata": {}
                }
            ],
            "execution_count": 173
        },
        {
            "cell_type": "markdown",
            "source": [
                "## **Importing Data**"
            ],
            "metadata": {
                "azdata_cell_guid": "54900f51-56e1-4b21-b839-326374a158a2"
            },
            "attachments": {}
        },
        {
            "cell_type": "code",
            "source": [
                "COPY dsci_504.builds\n",
                "FROM '/Applications/PostgreSQL 14/DSC_504_Database_Tables/builds.csv'\n",
                "DELIMITER ',' \n",
                "CSV\n",
                "HEADER;"
            ],
            "metadata": {
                "azdata_cell_guid": "96f9e866-ac06-46da-8362-64edbff07004",
                "language": "sql",
                "tags": []
            },
            "outputs": [
                {
                    "output_type": "display_data",
                    "data": {
                        "text/html": "Commands completed successfully"
                    },
                    "metadata": {}
                },
                {
                    "output_type": "display_data",
                    "data": {
                        "text/html": "Total execution time: 00:00:00.003"
                    },
                    "metadata": {}
                }
            ],
            "execution_count": 174
        },
        {
            "cell_type": "code",
            "source": [
                "--Copied to everything except sup_id because column was empty and causing missing data error and prevented the statements to be executed.\n",
                "\n",
                "COPY dsci_504.components(comp_id, comp_name, comp_cost, comp_supplier, comp_cat)\n",
                "FROM '/Applications/PostgreSQL 14/DSC_504_Database_Tables/components.csv'\n",
                "DELIMITER ',' \n",
                "CSV\n",
                "HEADER;"
            ],
            "metadata": {
                "language": "sql",
                "azdata_cell_guid": "b05b04fb-6e96-49b9-b051-60f0ad53384b"
            },
            "outputs": [
                {
                    "output_type": "display_data",
                    "data": {
                        "text/html": "Commands completed successfully"
                    },
                    "metadata": {}
                },
                {
                    "output_type": "display_data",
                    "data": {
                        "text/html": "Total execution time: 00:00:00.004"
                    },
                    "metadata": {}
                }
            ],
            "execution_count": 175
        },
        {
            "cell_type": "code",
            "source": [
                "COPY dsci_504.customers\n",
                "FROM '/Applications/PostgreSQL 14/DSC_504_Database_Tables/customers.csv'\n",
                "DELIMITER ',' \n",
                "CSV\n",
                "HEADER;"
            ],
            "metadata": {
                "language": "sql",
                "azdata_cell_guid": "d2e62e14-2ac2-4979-84df-6300d7c8a81b"
            },
            "outputs": [
                {
                    "output_type": "display_data",
                    "data": {
                        "text/html": "Commands completed successfully"
                    },
                    "metadata": {}
                },
                {
                    "output_type": "display_data",
                    "data": {
                        "text/html": "Total execution time: 00:00:00.022"
                    },
                    "metadata": {}
                }
            ],
            "execution_count": 176
        },
        {
            "cell_type": "code",
            "source": [
                "COPY dsci_504.customerwarehouseorders\n",
                "FROM '/Applications/PostgreSQL 14/DSC_504_Database_Tables/customerwarehouseorders.csv'\n",
                "DELIMITER ',' \n",
                "CSV\n",
                "HEADER;"
            ],
            "metadata": {
                "language": "sql",
                "azdata_cell_guid": "8fdf549a-db30-4e2f-b845-3287ae0fabc6",
                "tags": []
            },
            "outputs": [
                {
                    "output_type": "display_data",
                    "data": {
                        "text/html": "Commands completed successfully"
                    },
                    "metadata": {}
                },
                {
                    "output_type": "display_data",
                    "data": {
                        "text/html": "Total execution time: 00:00:00.010"
                    },
                    "metadata": {}
                }
            ],
            "execution_count": 177
        },
        {
            "cell_type": "code",
            "source": [
                "COPY dsci_504.customerwarehousereturns\n",
                "FROM '/Applications/PostgreSQL 14/DSC_504_Database_Tables/customerwarehousereturns.csv'\n",
                "DELIMITER ',' \n",
                "CSV\n",
                "HEADER;"
            ],
            "metadata": {
                "language": "sql",
                "azdata_cell_guid": "929baaef-50aa-41ba-a26f-dc1e0739cbe5"
            },
            "outputs": [
                {
                    "output_type": "display_data",
                    "data": {
                        "text/html": "Commands completed successfully"
                    },
                    "metadata": {}
                },
                {
                    "output_type": "display_data",
                    "data": {
                        "text/html": "Total execution time: 00:00:00.006"
                    },
                    "metadata": {}
                }
            ],
            "execution_count": 178
        },
        {
            "cell_type": "code",
            "source": [
                "COPY dsci_504.orders\n",
                "FROM '/Applications/PostgreSQL 14/DSC_504_Database_Tables/orders.csv'\n",
                "DELIMITER ',' \n",
                "CSV\n",
                "HEADER;"
            ],
            "metadata": {
                "language": "sql",
                "azdata_cell_guid": "c5ddb114-0523-4755-b19a-9a4103f1f5ac"
            },
            "outputs": [
                {
                    "output_type": "display_data",
                    "data": {
                        "text/html": "Commands completed successfully"
                    },
                    "metadata": {}
                },
                {
                    "output_type": "display_data",
                    "data": {
                        "text/html": "Total execution time: 00:00:00.016"
                    },
                    "metadata": {}
                }
            ],
            "execution_count": 179
        },
        {
            "cell_type": "code",
            "source": [
                "COPY dsci_504.ordertaxes\n",
                "FROM '/Applications/PostgreSQL 14/DSC_504_Database_Tables/ordertaxes.csv'\n",
                "DELIMITER ',' \n",
                "CSV\n",
                "HEADER;"
            ],
            "metadata": {
                "language": "sql",
                "azdata_cell_guid": "ff61c74c-03fb-4fd1-bc3f-703f857a31dc"
            },
            "outputs": [
                {
                    "output_type": "display_data",
                    "data": {
                        "text/html": "Commands completed successfully"
                    },
                    "metadata": {}
                },
                {
                    "output_type": "display_data",
                    "data": {
                        "text/html": "Total execution time: 00:00:00.013"
                    },
                    "metadata": {}
                }
            ],
            "execution_count": 180
        },
        {
            "cell_type": "code",
            "source": [
                "COPY dsci_504.productbuilds\n",
                "FROM '/Applications/PostgreSQL 14/DSC_504_Database_Tables/productbuilds.csv'\n",
                "DELIMITER ',' \n",
                "CSV\n",
                "HEADER;"
            ],
            "metadata": {
                "language": "sql",
                "azdata_cell_guid": "556141df-29eb-4382-a5ba-e79276ac36e4"
            },
            "outputs": [
                {
                    "output_type": "display_data",
                    "data": {
                        "text/html": "Commands completed successfully"
                    },
                    "metadata": {}
                },
                {
                    "output_type": "display_data",
                    "data": {
                        "text/html": "Total execution time: 00:00:00.003"
                    },
                    "metadata": {}
                }
            ],
            "execution_count": 181
        },
        {
            "cell_type": "code",
            "source": [
                "COPY dsci_504.products\n",
                "FROM '/Applications/PostgreSQL 14/DSC_504_Database_Tables/products.csv'\n",
                "DELIMITER ',' \n",
                "CSV\n",
                "HEADER;"
            ],
            "metadata": {
                "language": "sql",
                "azdata_cell_guid": "7e4c5d43-ad50-4612-97a3-5eb06b4f84d4",
                "tags": []
            },
            "outputs": [
                {
                    "output_type": "display_data",
                    "data": {
                        "text/html": "Commands completed successfully"
                    },
                    "metadata": {}
                },
                {
                    "output_type": "display_data",
                    "data": {
                        "text/html": "Total execution time: 00:00:00.001"
                    },
                    "metadata": {}
                }
            ],
            "execution_count": 182
        },
        {
            "cell_type": "code",
            "source": [
                "COPY dsci_504.racs\n",
                "FROM '/Applications/PostgreSQL 14/DSC_504_Database_Tables/racs.csv'\n",
                "DELIMITER ',' \n",
                "CSV\n",
                "HEADER;"
            ],
            "metadata": {
                "language": "sql",
                "azdata_cell_guid": "b86661ec-0916-4227-9774-6a5ba1f18300"
            },
            "outputs": [
                {
                    "output_type": "display_data",
                    "data": {
                        "text/html": "Commands completed successfully"
                    },
                    "metadata": {}
                },
                {
                    "output_type": "display_data",
                    "data": {
                        "text/html": "Total execution time: 00:00:00.008"
                    },
                    "metadata": {}
                }
            ],
            "execution_count": 183
        },
        {
            "cell_type": "code",
            "source": [
                "COPY dsci_504.states\n",
                "FROM '/Applications/PostgreSQL 14/DSC_504_Database_Tables/states.csv'\n",
                "DELIMITER ',' \n",
                "CSV\n",
                "HEADER;"
            ],
            "metadata": {
                "language": "sql",
                "azdata_cell_guid": "250a7251-e9d9-44a3-acbd-4c98113bedba"
            },
            "outputs": [
                {
                    "output_type": "display_data",
                    "data": {
                        "text/html": "Commands completed successfully"
                    },
                    "metadata": {}
                },
                {
                    "output_type": "display_data",
                    "data": {
                        "text/html": "Total execution time: 00:00:00.002"
                    },
                    "metadata": {}
                }
            ],
            "execution_count": 184
        },
        {
            "cell_type": "code",
            "source": [
                "COPY dsci_504.suppliers\n",
                "FROM '/Applications/PostgreSQL 14/DSC_504_Database_Tables/suppliers.csv'\n",
                "DELIMITER ',' \n",
                "CSV\n",
                "HEADER;"
            ],
            "metadata": {
                "language": "sql",
                "azdata_cell_guid": "7b4774e0-3392-4512-a462-f02323fba702"
            },
            "outputs": [
                {
                    "output_type": "display_data",
                    "data": {
                        "text/html": "Commands completed successfully"
                    },
                    "metadata": {}
                },
                {
                    "output_type": "display_data",
                    "data": {
                        "text/html": "Total execution time: 00:00:00.001"
                    },
                    "metadata": {}
                }
            ],
            "execution_count": 185
        },
        {
            "cell_type": "code",
            "source": [
                "COPY dsci_504.taxes\n",
                "FROM '/Applications/PostgreSQL 14/DSC_504_Database_Tables/taxes.csv'\n",
                "DELIMITER ',' \n",
                "CSV\n",
                "HEADER;"
            ],
            "metadata": {
                "language": "sql",
                "azdata_cell_guid": "b8e2443c-fc75-43b5-ae6b-b08497a1bdda"
            },
            "outputs": [
                {
                    "output_type": "display_data",
                    "data": {
                        "text/html": "Commands completed successfully"
                    },
                    "metadata": {}
                },
                {
                    "output_type": "display_data",
                    "data": {
                        "text/html": "Total execution time: 00:00:00.001"
                    },
                    "metadata": {}
                }
            ],
            "execution_count": 186
        },
        {
            "cell_type": "code",
            "source": [
                "COPY dsci_504.warehouses\n",
                "FROM '/Applications/PostgreSQL 14/DSC_504_Database_Tables/warehouses.csv'\n",
                "DELIMITER ',' \n",
                "CSV\n",
                "HEADER;"
            ],
            "metadata": {
                "language": "sql",
                "azdata_cell_guid": "6dfb430f-6d8e-452f-9e52-ebd9ca0cc4d2",
                "tags": [
                    "hide_input"
                ]
            },
            "outputs": [
                {
                    "output_type": "display_data",
                    "data": {
                        "text/html": "Commands completed successfully"
                    },
                    "metadata": {}
                },
                {
                    "output_type": "display_data",
                    "data": {
                        "text/html": "Total execution time: 00:00:00.001"
                    },
                    "metadata": {}
                }
            ],
            "execution_count": 187
        },
        {
            "cell_type": "markdown",
            "source": [
                "## <span style=\"font-family: -apple-system, BlinkMacSystemFont, sans-serif; color: var(--vscode-foreground);\"><b>Identifying Primary and Foreign Keys</b></span>"
            ],
            "metadata": {
                "language": "sql",
                "azdata_cell_guid": "8b039a5f-c5f0-4b51-81b7-b4e567ca84c8"
            },
            "attachments": {}
        },
        {
            "cell_type": "code",
            "source": [
                "ALTER TABLE dsci_504.builds\n",
                "ADD PRIMARY KEY (build_id);\n",
                "\n",
                "SELECT con.*\n",
                "    FROM pg_catalog.pg_constraint con\n",
                "        INNER JOIN pg_catalog.pg_class rel ON rel.oid = con.conrelid\n",
                "        INNER JOIN pg_catalog.pg_namespace nsp ON nsp.oid = connamespace\n",
                "        WHERE nsp.nspname = 'dsci_504'\n",
                "             AND rel.relname = 'builds';\n",
                ""
            ],
            "metadata": {
                "azdata_cell_guid": "e51fddd2-fb9d-4ea4-9af5-515d40241cec",
                "language": "sql"
            },
            "outputs": [
                {
                    "output_type": "display_data",
                    "data": {
                        "text/html": "Commands completed successfully"
                    },
                    "metadata": {}
                },
                {
                    "output_type": "display_data",
                    "data": {
                        "text/html": "(1 row(s) affected)"
                    },
                    "metadata": {}
                },
                {
                    "output_type": "display_data",
                    "data": {
                        "text/html": "Total execution time: 00:00:00.010"
                    },
                    "metadata": {}
                },
                {
                    "output_type": "execute_result",
                    "execution_count": 202,
                    "data": {
                        "application/vnd.dataresource+json": {
                            "schema": {
                                "fields": [
                                    {
                                        "name": "oid"
                                    },
                                    {
                                        "name": "conname"
                                    },
                                    {
                                        "name": "connamespace"
                                    },
                                    {
                                        "name": "contype"
                                    },
                                    {
                                        "name": "condeferrable"
                                    },
                                    {
                                        "name": "condeferred"
                                    },
                                    {
                                        "name": "convalidated"
                                    },
                                    {
                                        "name": "conrelid"
                                    },
                                    {
                                        "name": "contypid"
                                    },
                                    {
                                        "name": "conindid"
                                    },
                                    {
                                        "name": "conparentid"
                                    },
                                    {
                                        "name": "confrelid"
                                    },
                                    {
                                        "name": "confupdtype"
                                    },
                                    {
                                        "name": "confdeltype"
                                    },
                                    {
                                        "name": "confmatchtype"
                                    },
                                    {
                                        "name": "conislocal"
                                    },
                                    {
                                        "name": "coninhcount"
                                    },
                                    {
                                        "name": "connoinherit"
                                    },
                                    {
                                        "name": "conkey"
                                    },
                                    {
                                        "name": "confkey"
                                    },
                                    {
                                        "name": "conpfeqop"
                                    },
                                    {
                                        "name": "conppeqop"
                                    },
                                    {
                                        "name": "conffeqop"
                                    },
                                    {
                                        "name": "conexclop"
                                    },
                                    {
                                        "name": "conbin"
                                    }
                                ]
                            },
                            "data": [
                                {
                                    "0": "25520",
                                    "1": "builds_pkey",
                                    "2": "25460",
                                    "3": "p",
                                    "4": "False",
                                    "5": "False",
                                    "6": "True",
                                    "7": "25461",
                                    "8": "0",
                                    "9": "25519",
                                    "10": "0",
                                    "11": "0",
                                    "12": " ",
                                    "13": " ",
                                    "14": " ",
                                    "15": "True",
                                    "16": "0",
                                    "17": "True",
                                    "18": "[1]",
                                    "19": "NULL",
                                    "20": "NULL",
                                    "21": "NULL",
                                    "22": "NULL",
                                    "23": "NULL",
                                    "24": "NULL"
                                }
                            ]
                        },
                        "text/html": "<table><tr><th>oid</th><th>conname</th><th>connamespace</th><th>contype</th><th>condeferrable</th><th>condeferred</th><th>convalidated</th><th>conrelid</th><th>contypid</th><th>conindid</th><th>conparentid</th><th>confrelid</th><th>confupdtype</th><th>confdeltype</th><th>confmatchtype</th><th>conislocal</th><th>coninhcount</th><th>connoinherit</th><th>conkey</th><th>confkey</th><th>conpfeqop</th><th>conppeqop</th><th>conffeqop</th><th>conexclop</th><th>conbin</th></tr><tr><td>25520</td><td>builds_pkey</td><td>25460</td><td>p</td><td>False</td><td>False</td><td>True</td><td>25461</td><td>0</td><td>25519</td><td>0</td><td>0</td><td> </td><td> </td><td> </td><td>True</td><td>0</td><td>True</td><td>[1]</td><td>NULL</td><td>NULL</td><td>NULL</td><td>NULL</td><td>NULL</td><td>NULL</td></tr></table>"
                    },
                    "metadata": {}
                }
            ],
            "execution_count": 202
        },
        {
            "cell_type": "code",
            "source": [
                "ALTER TABLE dsci_504.components\n",
                "ADD PRIMARY KEY (comp_id);\n",
                "\n",
                "SELECT con.*\n",
                "    FROM pg_catalog.pg_constraint con\n",
                "        INNER JOIN pg_catalog.pg_class rel ON rel.oid = con.conrelid\n",
                "        INNER JOIN pg_catalog.pg_namespace nsp ON nsp.oid = connamespace\n",
                "        WHERE nsp.nspname = 'dsci_504'\n",
                "             AND rel.relname = 'components';"
            ],
            "metadata": {
                "language": "sql",
                "azdata_cell_guid": "634b4472-3bc9-4e4c-8ed4-4d2e49045c44"
            },
            "outputs": [
                {
                    "output_type": "display_data",
                    "data": {
                        "text/html": "Commands completed successfully"
                    },
                    "metadata": {}
                },
                {
                    "output_type": "display_data",
                    "data": {
                        "text/html": "(1 row(s) affected)"
                    },
                    "metadata": {}
                },
                {
                    "output_type": "display_data",
                    "data": {
                        "text/html": "Total execution time: 00:00:00.006"
                    },
                    "metadata": {}
                },
                {
                    "output_type": "execute_result",
                    "execution_count": 203,
                    "data": {
                        "application/vnd.dataresource+json": {
                            "schema": {
                                "fields": [
                                    {
                                        "name": "oid"
                                    },
                                    {
                                        "name": "conname"
                                    },
                                    {
                                        "name": "connamespace"
                                    },
                                    {
                                        "name": "contype"
                                    },
                                    {
                                        "name": "condeferrable"
                                    },
                                    {
                                        "name": "condeferred"
                                    },
                                    {
                                        "name": "convalidated"
                                    },
                                    {
                                        "name": "conrelid"
                                    },
                                    {
                                        "name": "contypid"
                                    },
                                    {
                                        "name": "conindid"
                                    },
                                    {
                                        "name": "conparentid"
                                    },
                                    {
                                        "name": "confrelid"
                                    },
                                    {
                                        "name": "confupdtype"
                                    },
                                    {
                                        "name": "confdeltype"
                                    },
                                    {
                                        "name": "confmatchtype"
                                    },
                                    {
                                        "name": "conislocal"
                                    },
                                    {
                                        "name": "coninhcount"
                                    },
                                    {
                                        "name": "connoinherit"
                                    },
                                    {
                                        "name": "conkey"
                                    },
                                    {
                                        "name": "confkey"
                                    },
                                    {
                                        "name": "conpfeqop"
                                    },
                                    {
                                        "name": "conppeqop"
                                    },
                                    {
                                        "name": "conffeqop"
                                    },
                                    {
                                        "name": "conexclop"
                                    },
                                    {
                                        "name": "conbin"
                                    }
                                ]
                            },
                            "data": [
                                {
                                    "0": "25522",
                                    "1": "components_pkey",
                                    "2": "25460",
                                    "3": "p",
                                    "4": "False",
                                    "5": "False",
                                    "6": "True",
                                    "7": "25466",
                                    "8": "0",
                                    "9": "25521",
                                    "10": "0",
                                    "11": "0",
                                    "12": " ",
                                    "13": " ",
                                    "14": " ",
                                    "15": "True",
                                    "16": "0",
                                    "17": "True",
                                    "18": "[1]",
                                    "19": "NULL",
                                    "20": "NULL",
                                    "21": "NULL",
                                    "22": "NULL",
                                    "23": "NULL",
                                    "24": "NULL"
                                }
                            ]
                        },
                        "text/html": "<table><tr><th>oid</th><th>conname</th><th>connamespace</th><th>contype</th><th>condeferrable</th><th>condeferred</th><th>convalidated</th><th>conrelid</th><th>contypid</th><th>conindid</th><th>conparentid</th><th>confrelid</th><th>confupdtype</th><th>confdeltype</th><th>confmatchtype</th><th>conislocal</th><th>coninhcount</th><th>connoinherit</th><th>conkey</th><th>confkey</th><th>conpfeqop</th><th>conppeqop</th><th>conffeqop</th><th>conexclop</th><th>conbin</th></tr><tr><td>25522</td><td>components_pkey</td><td>25460</td><td>p</td><td>False</td><td>False</td><td>True</td><td>25466</td><td>0</td><td>25521</td><td>0</td><td>0</td><td> </td><td> </td><td> </td><td>True</td><td>0</td><td>True</td><td>[1]</td><td>NULL</td><td>NULL</td><td>NULL</td><td>NULL</td><td>NULL</td><td>NULL</td></tr></table>"
                    },
                    "metadata": {}
                }
            ],
            "execution_count": 203
        },
        {
            "cell_type": "code",
            "source": [
                "ALTER TABLE dsci_504.customers\n",
                "ADD PRIMARY KEY (cus_id);\n",
                "\n",
                "SELECT con.*\n",
                "    FROM pg_catalog.pg_constraint con\n",
                "        INNER JOIN pg_catalog.pg_class rel ON rel.oid = con.conrelid\n",
                "        INNER JOIN pg_catalog.pg_namespace nsp ON nsp.oid = connamespace\n",
                "        WHERE nsp.nspname = 'dsci_504'\n",
                "             AND rel.relname = 'customers';"
            ],
            "metadata": {
                "language": "sql",
                "azdata_cell_guid": "fe047f72-3454-4440-af67-934aa1d5003c"
            },
            "outputs": [
                {
                    "output_type": "display_data",
                    "data": {
                        "text/html": "Commands completed successfully"
                    },
                    "metadata": {}
                },
                {
                    "output_type": "display_data",
                    "data": {
                        "text/html": "(1 row(s) affected)"
                    },
                    "metadata": {}
                },
                {
                    "output_type": "display_data",
                    "data": {
                        "text/html": "Total execution time: 00:00:00.010"
                    },
                    "metadata": {}
                },
                {
                    "output_type": "execute_result",
                    "execution_count": 204,
                    "data": {
                        "application/vnd.dataresource+json": {
                            "schema": {
                                "fields": [
                                    {
                                        "name": "oid"
                                    },
                                    {
                                        "name": "conname"
                                    },
                                    {
                                        "name": "connamespace"
                                    },
                                    {
                                        "name": "contype"
                                    },
                                    {
                                        "name": "condeferrable"
                                    },
                                    {
                                        "name": "condeferred"
                                    },
                                    {
                                        "name": "convalidated"
                                    },
                                    {
                                        "name": "conrelid"
                                    },
                                    {
                                        "name": "contypid"
                                    },
                                    {
                                        "name": "conindid"
                                    },
                                    {
                                        "name": "conparentid"
                                    },
                                    {
                                        "name": "confrelid"
                                    },
                                    {
                                        "name": "confupdtype"
                                    },
                                    {
                                        "name": "confdeltype"
                                    },
                                    {
                                        "name": "confmatchtype"
                                    },
                                    {
                                        "name": "conislocal"
                                    },
                                    {
                                        "name": "coninhcount"
                                    },
                                    {
                                        "name": "connoinherit"
                                    },
                                    {
                                        "name": "conkey"
                                    },
                                    {
                                        "name": "confkey"
                                    },
                                    {
                                        "name": "conpfeqop"
                                    },
                                    {
                                        "name": "conppeqop"
                                    },
                                    {
                                        "name": "conffeqop"
                                    },
                                    {
                                        "name": "conexclop"
                                    },
                                    {
                                        "name": "conbin"
                                    }
                                ]
                            },
                            "data": [
                                {
                                    "0": "25524",
                                    "1": "customers_pkey",
                                    "2": "25460",
                                    "3": "p",
                                    "4": "False",
                                    "5": "False",
                                    "6": "True",
                                    "7": "25471",
                                    "8": "0",
                                    "9": "25523",
                                    "10": "0",
                                    "11": "0",
                                    "12": " ",
                                    "13": " ",
                                    "14": " ",
                                    "15": "True",
                                    "16": "0",
                                    "17": "True",
                                    "18": "[1]",
                                    "19": "NULL",
                                    "20": "NULL",
                                    "21": "NULL",
                                    "22": "NULL",
                                    "23": "NULL",
                                    "24": "NULL"
                                }
                            ]
                        },
                        "text/html": "<table><tr><th>oid</th><th>conname</th><th>connamespace</th><th>contype</th><th>condeferrable</th><th>condeferred</th><th>convalidated</th><th>conrelid</th><th>contypid</th><th>conindid</th><th>conparentid</th><th>confrelid</th><th>confupdtype</th><th>confdeltype</th><th>confmatchtype</th><th>conislocal</th><th>coninhcount</th><th>connoinherit</th><th>conkey</th><th>confkey</th><th>conpfeqop</th><th>conppeqop</th><th>conffeqop</th><th>conexclop</th><th>conbin</th></tr><tr><td>25524</td><td>customers_pkey</td><td>25460</td><td>p</td><td>False</td><td>False</td><td>True</td><td>25471</td><td>0</td><td>25523</td><td>0</td><td>0</td><td> </td><td> </td><td> </td><td>True</td><td>0</td><td>True</td><td>[1]</td><td>NULL</td><td>NULL</td><td>NULL</td><td>NULL</td><td>NULL</td><td>NULL</td></tr></table>"
                    },
                    "metadata": {}
                }
            ],
            "execution_count": 204
        },
        {
            "cell_type": "code",
            "source": [
                "ALTER TABLE dsci_504.customerwarehouseorders\n",
                "ADD PRIMARY KEY (ord_id);\n",
                "\n",
                "SELECT con.*\n",
                "    FROM pg_catalog.pg_constraint con\n",
                "        INNER JOIN pg_catalog.pg_class rel ON rel.oid = con.conrelid\n",
                "        INNER JOIN pg_catalog.pg_namespace nsp ON nsp.oid = connamespace\n",
                "        WHERE nsp.nspname = 'dsci_504'\n",
                "             AND rel.relname = 'customerwarehouseorders';"
            ],
            "metadata": {
                "language": "sql",
                "azdata_cell_guid": "9e47206a-3282-4c39-90e4-ceadabbe2d4a"
            },
            "outputs": [
                {
                    "output_type": "display_data",
                    "data": {
                        "text/html": "Commands completed successfully"
                    },
                    "metadata": {}
                },
                {
                    "output_type": "display_data",
                    "data": {
                        "text/html": "(1 row(s) affected)"
                    },
                    "metadata": {}
                },
                {
                    "output_type": "display_data",
                    "data": {
                        "text/html": "Total execution time: 00:00:00.009"
                    },
                    "metadata": {}
                },
                {
                    "output_type": "execute_result",
                    "execution_count": 205,
                    "data": {
                        "application/vnd.dataresource+json": {
                            "schema": {
                                "fields": [
                                    {
                                        "name": "oid"
                                    },
                                    {
                                        "name": "conname"
                                    },
                                    {
                                        "name": "connamespace"
                                    },
                                    {
                                        "name": "contype"
                                    },
                                    {
                                        "name": "condeferrable"
                                    },
                                    {
                                        "name": "condeferred"
                                    },
                                    {
                                        "name": "convalidated"
                                    },
                                    {
                                        "name": "conrelid"
                                    },
                                    {
                                        "name": "contypid"
                                    },
                                    {
                                        "name": "conindid"
                                    },
                                    {
                                        "name": "conparentid"
                                    },
                                    {
                                        "name": "confrelid"
                                    },
                                    {
                                        "name": "confupdtype"
                                    },
                                    {
                                        "name": "confdeltype"
                                    },
                                    {
                                        "name": "confmatchtype"
                                    },
                                    {
                                        "name": "conislocal"
                                    },
                                    {
                                        "name": "coninhcount"
                                    },
                                    {
                                        "name": "connoinherit"
                                    },
                                    {
                                        "name": "conkey"
                                    },
                                    {
                                        "name": "confkey"
                                    },
                                    {
                                        "name": "conpfeqop"
                                    },
                                    {
                                        "name": "conppeqop"
                                    },
                                    {
                                        "name": "conffeqop"
                                    },
                                    {
                                        "name": "conexclop"
                                    },
                                    {
                                        "name": "conbin"
                                    }
                                ]
                            },
                            "data": [
                                {
                                    "0": "25526",
                                    "1": "customerwarehouseorders_pkey",
                                    "2": "25460",
                                    "3": "p",
                                    "4": "False",
                                    "5": "False",
                                    "6": "True",
                                    "7": "25476",
                                    "8": "0",
                                    "9": "25525",
                                    "10": "0",
                                    "11": "0",
                                    "12": " ",
                                    "13": " ",
                                    "14": " ",
                                    "15": "True",
                                    "16": "0",
                                    "17": "True",
                                    "18": "[3]",
                                    "19": "NULL",
                                    "20": "NULL",
                                    "21": "NULL",
                                    "22": "NULL",
                                    "23": "NULL",
                                    "24": "NULL"
                                }
                            ]
                        },
                        "text/html": "<table><tr><th>oid</th><th>conname</th><th>connamespace</th><th>contype</th><th>condeferrable</th><th>condeferred</th><th>convalidated</th><th>conrelid</th><th>contypid</th><th>conindid</th><th>conparentid</th><th>confrelid</th><th>confupdtype</th><th>confdeltype</th><th>confmatchtype</th><th>conislocal</th><th>coninhcount</th><th>connoinherit</th><th>conkey</th><th>confkey</th><th>conpfeqop</th><th>conppeqop</th><th>conffeqop</th><th>conexclop</th><th>conbin</th></tr><tr><td>25526</td><td>customerwarehouseorders_pkey</td><td>25460</td><td>p</td><td>False</td><td>False</td><td>True</td><td>25476</td><td>0</td><td>25525</td><td>0</td><td>0</td><td> </td><td> </td><td> </td><td>True</td><td>0</td><td>True</td><td>[3]</td><td>NULL</td><td>NULL</td><td>NULL</td><td>NULL</td><td>NULL</td><td>NULL</td></tr></table>"
                    },
                    "metadata": {}
                }
            ],
            "execution_count": 205
        },
        {
            "cell_type": "code",
            "source": [
                "ALTER TABLE dsci_504.customerwarehousereturns\n",
                "ADD PRIMARY KEY (rac_id);\n",
                "\n",
                "SELECT con.*\n",
                "    FROM pg_catalog.pg_constraint con\n",
                "        INNER JOIN pg_catalog.pg_class rel ON rel.oid = con.conrelid\n",
                "        INNER JOIN pg_catalog.pg_namespace nsp ON nsp.oid = connamespace\n",
                "        WHERE nsp.nspname = 'dsci_504'\n",
                "             AND rel.relname = 'customerwarehousereturns';"
            ],
            "metadata": {
                "language": "sql",
                "azdata_cell_guid": "7f4b1c10-3fb6-4bbc-b327-4e702063d296"
            },
            "outputs": [
                {
                    "output_type": "display_data",
                    "data": {
                        "text/html": "Commands completed successfully"
                    },
                    "metadata": {}
                },
                {
                    "output_type": "display_data",
                    "data": {
                        "text/html": "(1 row(s) affected)"
                    },
                    "metadata": {}
                },
                {
                    "output_type": "display_data",
                    "data": {
                        "text/html": "Total execution time: 00:00:00.004"
                    },
                    "metadata": {}
                },
                {
                    "output_type": "execute_result",
                    "execution_count": 206,
                    "data": {
                        "application/vnd.dataresource+json": {
                            "schema": {
                                "fields": [
                                    {
                                        "name": "oid"
                                    },
                                    {
                                        "name": "conname"
                                    },
                                    {
                                        "name": "connamespace"
                                    },
                                    {
                                        "name": "contype"
                                    },
                                    {
                                        "name": "condeferrable"
                                    },
                                    {
                                        "name": "condeferred"
                                    },
                                    {
                                        "name": "convalidated"
                                    },
                                    {
                                        "name": "conrelid"
                                    },
                                    {
                                        "name": "contypid"
                                    },
                                    {
                                        "name": "conindid"
                                    },
                                    {
                                        "name": "conparentid"
                                    },
                                    {
                                        "name": "confrelid"
                                    },
                                    {
                                        "name": "confupdtype"
                                    },
                                    {
                                        "name": "confdeltype"
                                    },
                                    {
                                        "name": "confmatchtype"
                                    },
                                    {
                                        "name": "conislocal"
                                    },
                                    {
                                        "name": "coninhcount"
                                    },
                                    {
                                        "name": "connoinherit"
                                    },
                                    {
                                        "name": "conkey"
                                    },
                                    {
                                        "name": "confkey"
                                    },
                                    {
                                        "name": "conpfeqop"
                                    },
                                    {
                                        "name": "conppeqop"
                                    },
                                    {
                                        "name": "conffeqop"
                                    },
                                    {
                                        "name": "conexclop"
                                    },
                                    {
                                        "name": "conbin"
                                    }
                                ]
                            },
                            "data": [
                                {
                                    "0": "25528",
                                    "1": "customerwarehousereturns_pkey",
                                    "2": "25460",
                                    "3": "p",
                                    "4": "False",
                                    "5": "False",
                                    "6": "True",
                                    "7": "25479",
                                    "8": "0",
                                    "9": "25527",
                                    "10": "0",
                                    "11": "0",
                                    "12": " ",
                                    "13": " ",
                                    "14": " ",
                                    "15": "True",
                                    "16": "0",
                                    "17": "True",
                                    "18": "[4]",
                                    "19": "NULL",
                                    "20": "NULL",
                                    "21": "NULL",
                                    "22": "NULL",
                                    "23": "NULL",
                                    "24": "NULL"
                                }
                            ]
                        },
                        "text/html": "<table><tr><th>oid</th><th>conname</th><th>connamespace</th><th>contype</th><th>condeferrable</th><th>condeferred</th><th>convalidated</th><th>conrelid</th><th>contypid</th><th>conindid</th><th>conparentid</th><th>confrelid</th><th>confupdtype</th><th>confdeltype</th><th>confmatchtype</th><th>conislocal</th><th>coninhcount</th><th>connoinherit</th><th>conkey</th><th>confkey</th><th>conpfeqop</th><th>conppeqop</th><th>conffeqop</th><th>conexclop</th><th>conbin</th></tr><tr><td>25528</td><td>customerwarehousereturns_pkey</td><td>25460</td><td>p</td><td>False</td><td>False</td><td>True</td><td>25479</td><td>0</td><td>25527</td><td>0</td><td>0</td><td> </td><td> </td><td> </td><td>True</td><td>0</td><td>True</td><td>[4]</td><td>NULL</td><td>NULL</td><td>NULL</td><td>NULL</td><td>NULL</td><td>NULL</td></tr></table>"
                    },
                    "metadata": {}
                }
            ],
            "execution_count": 206
        },
        {
            "cell_type": "code",
            "source": [
                "ALTER TABLE dsci_504.orders\n",
                "ADD PRIMARY KEY (ord_id);\n",
                "\n",
                "SELECT con.*\n",
                "    FROM pg_catalog.pg_constraint con\n",
                "        INNER JOIN pg_catalog.pg_class rel ON rel.oid = con.conrelid\n",
                "        INNER JOIN pg_catalog.pg_namespace nsp ON nsp.oid = connamespace\n",
                "        WHERE nsp.nspname = 'dsci_504'\n",
                "             AND rel.relname = 'orders';"
            ],
            "metadata": {
                "language": "sql",
                "azdata_cell_guid": "507adea6-ab17-46d1-9f9c-af5a2386a684"
            },
            "outputs": [
                {
                    "output_type": "display_data",
                    "data": {
                        "text/html": "Commands completed successfully"
                    },
                    "metadata": {}
                },
                {
                    "output_type": "display_data",
                    "data": {
                        "text/html": "(1 row(s) affected)"
                    },
                    "metadata": {}
                },
                {
                    "output_type": "display_data",
                    "data": {
                        "text/html": "Total execution time: 00:00:00.005"
                    },
                    "metadata": {}
                },
                {
                    "output_type": "execute_result",
                    "execution_count": 207,
                    "data": {
                        "application/vnd.dataresource+json": {
                            "schema": {
                                "fields": [
                                    {
                                        "name": "oid"
                                    },
                                    {
                                        "name": "conname"
                                    },
                                    {
                                        "name": "connamespace"
                                    },
                                    {
                                        "name": "contype"
                                    },
                                    {
                                        "name": "condeferrable"
                                    },
                                    {
                                        "name": "condeferred"
                                    },
                                    {
                                        "name": "convalidated"
                                    },
                                    {
                                        "name": "conrelid"
                                    },
                                    {
                                        "name": "contypid"
                                    },
                                    {
                                        "name": "conindid"
                                    },
                                    {
                                        "name": "conparentid"
                                    },
                                    {
                                        "name": "confrelid"
                                    },
                                    {
                                        "name": "confupdtype"
                                    },
                                    {
                                        "name": "confdeltype"
                                    },
                                    {
                                        "name": "confmatchtype"
                                    },
                                    {
                                        "name": "conislocal"
                                    },
                                    {
                                        "name": "coninhcount"
                                    },
                                    {
                                        "name": "connoinherit"
                                    },
                                    {
                                        "name": "conkey"
                                    },
                                    {
                                        "name": "confkey"
                                    },
                                    {
                                        "name": "conpfeqop"
                                    },
                                    {
                                        "name": "conppeqop"
                                    },
                                    {
                                        "name": "conffeqop"
                                    },
                                    {
                                        "name": "conexclop"
                                    },
                                    {
                                        "name": "conbin"
                                    }
                                ]
                            },
                            "data": [
                                {
                                    "0": "25532",
                                    "1": "orders_pkey",
                                    "2": "25460",
                                    "3": "p",
                                    "4": "False",
                                    "5": "False",
                                    "6": "True",
                                    "7": "25482",
                                    "8": "0",
                                    "9": "25531",
                                    "10": "0",
                                    "11": "0",
                                    "12": " ",
                                    "13": " ",
                                    "14": " ",
                                    "15": "True",
                                    "16": "0",
                                    "17": "True",
                                    "18": "[1]",
                                    "19": "NULL",
                                    "20": "NULL",
                                    "21": "NULL",
                                    "22": "NULL",
                                    "23": "NULL",
                                    "24": "NULL"
                                }
                            ]
                        },
                        "text/html": "<table><tr><th>oid</th><th>conname</th><th>connamespace</th><th>contype</th><th>condeferrable</th><th>condeferred</th><th>convalidated</th><th>conrelid</th><th>contypid</th><th>conindid</th><th>conparentid</th><th>confrelid</th><th>confupdtype</th><th>confdeltype</th><th>confmatchtype</th><th>conislocal</th><th>coninhcount</th><th>connoinherit</th><th>conkey</th><th>confkey</th><th>conpfeqop</th><th>conppeqop</th><th>conffeqop</th><th>conexclop</th><th>conbin</th></tr><tr><td>25532</td><td>orders_pkey</td><td>25460</td><td>p</td><td>False</td><td>False</td><td>True</td><td>25482</td><td>0</td><td>25531</td><td>0</td><td>0</td><td> </td><td> </td><td> </td><td>True</td><td>0</td><td>True</td><td>[1]</td><td>NULL</td><td>NULL</td><td>NULL</td><td>NULL</td><td>NULL</td><td>NULL</td></tr></table>"
                    },
                    "metadata": {}
                }
            ],
            "execution_count": 207
        },
        {
            "cell_type": "code",
            "source": [
                "ALTER TABLE dsci_504.ordertaxes\n",
                "ADD PRIMARY KEY (ord_id);\n",
                "\n",
                "SELECT con.*\n",
                "    FROM pg_catalog.pg_constraint con\n",
                "        INNER JOIN pg_catalog.pg_class rel ON rel.oid = con.conrelid\n",
                "        INNER JOIN pg_catalog.pg_namespace nsp ON nsp.oid = connamespace\n",
                "        WHERE nsp.nspname = 'dsci_504'\n",
                "             AND rel.relname = 'ordertaxes';\n",
                "\n",
                ""
            ],
            "metadata": {
                "language": "sql",
                "azdata_cell_guid": "b2b29990-d29c-4a78-ac07-2090ee45c795"
            },
            "outputs": [
                {
                    "output_type": "display_data",
                    "data": {
                        "text/html": "Commands completed successfully"
                    },
                    "metadata": {}
                },
                {
                    "output_type": "display_data",
                    "data": {
                        "text/html": "(1 row(s) affected)"
                    },
                    "metadata": {}
                },
                {
                    "output_type": "display_data",
                    "data": {
                        "text/html": "Total execution time: 00:00:00.009"
                    },
                    "metadata": {}
                },
                {
                    "output_type": "execute_result",
                    "execution_count": 208,
                    "data": {
                        "application/vnd.dataresource+json": {
                            "schema": {
                                "fields": [
                                    {
                                        "name": "oid"
                                    },
                                    {
                                        "name": "conname"
                                    },
                                    {
                                        "name": "connamespace"
                                    },
                                    {
                                        "name": "contype"
                                    },
                                    {
                                        "name": "condeferrable"
                                    },
                                    {
                                        "name": "condeferred"
                                    },
                                    {
                                        "name": "convalidated"
                                    },
                                    {
                                        "name": "conrelid"
                                    },
                                    {
                                        "name": "contypid"
                                    },
                                    {
                                        "name": "conindid"
                                    },
                                    {
                                        "name": "conparentid"
                                    },
                                    {
                                        "name": "confrelid"
                                    },
                                    {
                                        "name": "confupdtype"
                                    },
                                    {
                                        "name": "confdeltype"
                                    },
                                    {
                                        "name": "confmatchtype"
                                    },
                                    {
                                        "name": "conislocal"
                                    },
                                    {
                                        "name": "coninhcount"
                                    },
                                    {
                                        "name": "connoinherit"
                                    },
                                    {
                                        "name": "conkey"
                                    },
                                    {
                                        "name": "confkey"
                                    },
                                    {
                                        "name": "conpfeqop"
                                    },
                                    {
                                        "name": "conppeqop"
                                    },
                                    {
                                        "name": "conffeqop"
                                    },
                                    {
                                        "name": "conexclop"
                                    },
                                    {
                                        "name": "conbin"
                                    }
                                ]
                            },
                            "data": [
                                {
                                    "0": "25534",
                                    "1": "ordertaxes_pkey",
                                    "2": "25460",
                                    "3": "p",
                                    "4": "False",
                                    "5": "False",
                                    "6": "True",
                                    "7": "25487",
                                    "8": "0",
                                    "9": "25533",
                                    "10": "0",
                                    "11": "0",
                                    "12": " ",
                                    "13": " ",
                                    "14": " ",
                                    "15": "True",
                                    "16": "0",
                                    "17": "True",
                                    "18": "[1]",
                                    "19": "NULL",
                                    "20": "NULL",
                                    "21": "NULL",
                                    "22": "NULL",
                                    "23": "NULL",
                                    "24": "NULL"
                                }
                            ]
                        },
                        "text/html": "<table><tr><th>oid</th><th>conname</th><th>connamespace</th><th>contype</th><th>condeferrable</th><th>condeferred</th><th>convalidated</th><th>conrelid</th><th>contypid</th><th>conindid</th><th>conparentid</th><th>confrelid</th><th>confupdtype</th><th>confdeltype</th><th>confmatchtype</th><th>conislocal</th><th>coninhcount</th><th>connoinherit</th><th>conkey</th><th>confkey</th><th>conpfeqop</th><th>conppeqop</th><th>conffeqop</th><th>conexclop</th><th>conbin</th></tr><tr><td>25534</td><td>ordertaxes_pkey</td><td>25460</td><td>p</td><td>False</td><td>False</td><td>True</td><td>25487</td><td>0</td><td>25533</td><td>0</td><td>0</td><td> </td><td> </td><td> </td><td>True</td><td>0</td><td>True</td><td>[1]</td><td>NULL</td><td>NULL</td><td>NULL</td><td>NULL</td><td>NULL</td><td>NULL</td></tr></table>"
                    },
                    "metadata": {}
                }
            ],
            "execution_count": 208
        },
        {
            "cell_type": "code",
            "source": [
                "ALTER TABLE dsci_504.productbuilds\n",
                "ADD PRIMARY KEY (prod_id);\n",
                "\n",
                "SELECT con.*\n",
                "    FROM pg_catalog.pg_constraint con\n",
                "        INNER JOIN pg_catalog.pg_class rel ON rel.oid = con.conrelid\n",
                "        INNER JOIN pg_catalog.pg_namespace nsp ON nsp.oid = connamespace\n",
                "        WHERE nsp.nspname = 'dsci_504'\n",
                "             AND rel.relname = 'productbuilds';"
            ],
            "metadata": {
                "language": "sql",
                "azdata_cell_guid": "4f5c4324-e51d-45d9-9418-48c1148cb122"
            },
            "outputs": [
                {
                    "output_type": "display_data",
                    "data": {
                        "text/html": "Commands completed successfully"
                    },
                    "metadata": {}
                },
                {
                    "output_type": "display_data",
                    "data": {
                        "text/html": "(1 row(s) affected)"
                    },
                    "metadata": {}
                },
                {
                    "output_type": "display_data",
                    "data": {
                        "text/html": "Total execution time: 00:00:00.004"
                    },
                    "metadata": {}
                },
                {
                    "output_type": "execute_result",
                    "execution_count": 209,
                    "data": {
                        "application/vnd.dataresource+json": {
                            "schema": {
                                "fields": [
                                    {
                                        "name": "oid"
                                    },
                                    {
                                        "name": "conname"
                                    },
                                    {
                                        "name": "connamespace"
                                    },
                                    {
                                        "name": "contype"
                                    },
                                    {
                                        "name": "condeferrable"
                                    },
                                    {
                                        "name": "condeferred"
                                    },
                                    {
                                        "name": "convalidated"
                                    },
                                    {
                                        "name": "conrelid"
                                    },
                                    {
                                        "name": "contypid"
                                    },
                                    {
                                        "name": "conindid"
                                    },
                                    {
                                        "name": "conparentid"
                                    },
                                    {
                                        "name": "confrelid"
                                    },
                                    {
                                        "name": "confupdtype"
                                    },
                                    {
                                        "name": "confdeltype"
                                    },
                                    {
                                        "name": "confmatchtype"
                                    },
                                    {
                                        "name": "conislocal"
                                    },
                                    {
                                        "name": "coninhcount"
                                    },
                                    {
                                        "name": "connoinherit"
                                    },
                                    {
                                        "name": "conkey"
                                    },
                                    {
                                        "name": "confkey"
                                    },
                                    {
                                        "name": "conpfeqop"
                                    },
                                    {
                                        "name": "conppeqop"
                                    },
                                    {
                                        "name": "conffeqop"
                                    },
                                    {
                                        "name": "conexclop"
                                    },
                                    {
                                        "name": "conbin"
                                    }
                                ]
                            },
                            "data": [
                                {
                                    "0": "25536",
                                    "1": "productbuilds_pkey",
                                    "2": "25460",
                                    "3": "p",
                                    "4": "False",
                                    "5": "False",
                                    "6": "True",
                                    "7": "25492",
                                    "8": "0",
                                    "9": "25535",
                                    "10": "0",
                                    "11": "0",
                                    "12": " ",
                                    "13": " ",
                                    "14": " ",
                                    "15": "True",
                                    "16": "0",
                                    "17": "True",
                                    "18": "[1]",
                                    "19": "NULL",
                                    "20": "NULL",
                                    "21": "NULL",
                                    "22": "NULL",
                                    "23": "NULL",
                                    "24": "NULL"
                                }
                            ]
                        },
                        "text/html": "<table><tr><th>oid</th><th>conname</th><th>connamespace</th><th>contype</th><th>condeferrable</th><th>condeferred</th><th>convalidated</th><th>conrelid</th><th>contypid</th><th>conindid</th><th>conparentid</th><th>confrelid</th><th>confupdtype</th><th>confdeltype</th><th>confmatchtype</th><th>conislocal</th><th>coninhcount</th><th>connoinherit</th><th>conkey</th><th>confkey</th><th>conpfeqop</th><th>conppeqop</th><th>conffeqop</th><th>conexclop</th><th>conbin</th></tr><tr><td>25536</td><td>productbuilds_pkey</td><td>25460</td><td>p</td><td>False</td><td>False</td><td>True</td><td>25492</td><td>0</td><td>25535</td><td>0</td><td>0</td><td> </td><td> </td><td> </td><td>True</td><td>0</td><td>True</td><td>[1]</td><td>NULL</td><td>NULL</td><td>NULL</td><td>NULL</td><td>NULL</td><td>NULL</td></tr></table>"
                    },
                    "metadata": {}
                }
            ],
            "execution_count": 209
        },
        {
            "cell_type": "code",
            "source": [
                "ALTER TABLE dsci_504.products\n",
                "ADD PRIMARY KEY (prod_id);\n",
                "\n",
                "SELECT con.*\n",
                "    FROM pg_catalog.pg_constraint con\n",
                "        INNER JOIN pg_catalog.pg_class rel ON rel.oid = con.conrelid\n",
                "        INNER JOIN pg_catalog.pg_namespace nsp ON nsp.oid = connamespace\n",
                "        WHERE nsp.nspname = 'dsci_504'\n",
                "             AND rel.relname = 'products';\n",
                ""
            ],
            "metadata": {
                "language": "sql",
                "azdata_cell_guid": "e5fc5cec-9b8f-4e23-bc89-bcd72dd29e2b",
                "tags": []
            },
            "outputs": [
                {
                    "output_type": "display_data",
                    "data": {
                        "text/html": "Commands completed successfully"
                    },
                    "metadata": {}
                },
                {
                    "output_type": "display_data",
                    "data": {
                        "text/html": "(1 row(s) affected)"
                    },
                    "metadata": {}
                },
                {
                    "output_type": "display_data",
                    "data": {
                        "text/html": "Total execution time: 00:00:00.005"
                    },
                    "metadata": {}
                },
                {
                    "output_type": "execute_result",
                    "execution_count": 210,
                    "data": {
                        "application/vnd.dataresource+json": {
                            "schema": {
                                "fields": [
                                    {
                                        "name": "oid"
                                    },
                                    {
                                        "name": "conname"
                                    },
                                    {
                                        "name": "connamespace"
                                    },
                                    {
                                        "name": "contype"
                                    },
                                    {
                                        "name": "condeferrable"
                                    },
                                    {
                                        "name": "condeferred"
                                    },
                                    {
                                        "name": "convalidated"
                                    },
                                    {
                                        "name": "conrelid"
                                    },
                                    {
                                        "name": "contypid"
                                    },
                                    {
                                        "name": "conindid"
                                    },
                                    {
                                        "name": "conparentid"
                                    },
                                    {
                                        "name": "confrelid"
                                    },
                                    {
                                        "name": "confupdtype"
                                    },
                                    {
                                        "name": "confdeltype"
                                    },
                                    {
                                        "name": "confmatchtype"
                                    },
                                    {
                                        "name": "conislocal"
                                    },
                                    {
                                        "name": "coninhcount"
                                    },
                                    {
                                        "name": "connoinherit"
                                    },
                                    {
                                        "name": "conkey"
                                    },
                                    {
                                        "name": "confkey"
                                    },
                                    {
                                        "name": "conpfeqop"
                                    },
                                    {
                                        "name": "conppeqop"
                                    },
                                    {
                                        "name": "conffeqop"
                                    },
                                    {
                                        "name": "conexclop"
                                    },
                                    {
                                        "name": "conbin"
                                    }
                                ]
                            },
                            "data": [
                                {
                                    "0": "25538",
                                    "1": "products_pkey",
                                    "2": "25460",
                                    "3": "p",
                                    "4": "False",
                                    "5": "False",
                                    "6": "True",
                                    "7": "25495",
                                    "8": "0",
                                    "9": "25537",
                                    "10": "0",
                                    "11": "0",
                                    "12": " ",
                                    "13": " ",
                                    "14": " ",
                                    "15": "True",
                                    "16": "0",
                                    "17": "True",
                                    "18": "[1]",
                                    "19": "NULL",
                                    "20": "NULL",
                                    "21": "NULL",
                                    "22": "NULL",
                                    "23": "NULL",
                                    "24": "NULL"
                                }
                            ]
                        },
                        "text/html": "<table><tr><th>oid</th><th>conname</th><th>connamespace</th><th>contype</th><th>condeferrable</th><th>condeferred</th><th>convalidated</th><th>conrelid</th><th>contypid</th><th>conindid</th><th>conparentid</th><th>confrelid</th><th>confupdtype</th><th>confdeltype</th><th>confmatchtype</th><th>conislocal</th><th>coninhcount</th><th>connoinherit</th><th>conkey</th><th>confkey</th><th>conpfeqop</th><th>conppeqop</th><th>conffeqop</th><th>conexclop</th><th>conbin</th></tr><tr><td>25538</td><td>products_pkey</td><td>25460</td><td>p</td><td>False</td><td>False</td><td>True</td><td>25495</td><td>0</td><td>25537</td><td>0</td><td>0</td><td> </td><td> </td><td> </td><td>True</td><td>0</td><td>True</td><td>[1]</td><td>NULL</td><td>NULL</td><td>NULL</td><td>NULL</td><td>NULL</td><td>NULL</td></tr></table>"
                    },
                    "metadata": {}
                }
            ],
            "execution_count": 210
        },
        {
            "cell_type": "code",
            "source": [
                "ALTER TABLE dsci_504.racs\n",
                "ADD PRIMARY KEY (rac_id);\n",
                "\n",
                "SELECT con.*\n",
                "    FROM pg_catalog.pg_constraint con\n",
                "        INNER JOIN pg_catalog.pg_class rel ON rel.oid = con.conrelid\n",
                "        INNER JOIN pg_catalog.pg_namespace nsp ON nsp.oid = connamespace\n",
                "        WHERE nsp.nspname = 'dsci_504'\n",
                "             AND rel.relname = 'racs';"
            ],
            "metadata": {
                "language": "sql",
                "azdata_cell_guid": "dd88f2aa-22ae-44f8-8ab4-321c85529386"
            },
            "outputs": [
                {
                    "output_type": "display_data",
                    "data": {
                        "text/html": "Commands completed successfully"
                    },
                    "metadata": {}
                },
                {
                    "output_type": "display_data",
                    "data": {
                        "text/html": "(1 row(s) affected)"
                    },
                    "metadata": {}
                },
                {
                    "output_type": "display_data",
                    "data": {
                        "text/html": "Total execution time: 00:00:00.010"
                    },
                    "metadata": {}
                },
                {
                    "output_type": "execute_result",
                    "execution_count": 211,
                    "data": {
                        "application/vnd.dataresource+json": {
                            "schema": {
                                "fields": [
                                    {
                                        "name": "oid"
                                    },
                                    {
                                        "name": "conname"
                                    },
                                    {
                                        "name": "connamespace"
                                    },
                                    {
                                        "name": "contype"
                                    },
                                    {
                                        "name": "condeferrable"
                                    },
                                    {
                                        "name": "condeferred"
                                    },
                                    {
                                        "name": "convalidated"
                                    },
                                    {
                                        "name": "conrelid"
                                    },
                                    {
                                        "name": "contypid"
                                    },
                                    {
                                        "name": "conindid"
                                    },
                                    {
                                        "name": "conparentid"
                                    },
                                    {
                                        "name": "confrelid"
                                    },
                                    {
                                        "name": "confupdtype"
                                    },
                                    {
                                        "name": "confdeltype"
                                    },
                                    {
                                        "name": "confmatchtype"
                                    },
                                    {
                                        "name": "conislocal"
                                    },
                                    {
                                        "name": "coninhcount"
                                    },
                                    {
                                        "name": "connoinherit"
                                    },
                                    {
                                        "name": "conkey"
                                    },
                                    {
                                        "name": "confkey"
                                    },
                                    {
                                        "name": "conpfeqop"
                                    },
                                    {
                                        "name": "conppeqop"
                                    },
                                    {
                                        "name": "conffeqop"
                                    },
                                    {
                                        "name": "conexclop"
                                    },
                                    {
                                        "name": "conbin"
                                    }
                                ]
                            },
                            "data": [
                                {
                                    "0": "25540",
                                    "1": "racs_pkey",
                                    "2": "25460",
                                    "3": "p",
                                    "4": "False",
                                    "5": "False",
                                    "6": "True",
                                    "7": "25500",
                                    "8": "0",
                                    "9": "25539",
                                    "10": "0",
                                    "11": "0",
                                    "12": " ",
                                    "13": " ",
                                    "14": " ",
                                    "15": "True",
                                    "16": "0",
                                    "17": "True",
                                    "18": "[1]",
                                    "19": "NULL",
                                    "20": "NULL",
                                    "21": "NULL",
                                    "22": "NULL",
                                    "23": "NULL",
                                    "24": "NULL"
                                }
                            ]
                        },
                        "text/html": "<table><tr><th>oid</th><th>conname</th><th>connamespace</th><th>contype</th><th>condeferrable</th><th>condeferred</th><th>convalidated</th><th>conrelid</th><th>contypid</th><th>conindid</th><th>conparentid</th><th>confrelid</th><th>confupdtype</th><th>confdeltype</th><th>confmatchtype</th><th>conislocal</th><th>coninhcount</th><th>connoinherit</th><th>conkey</th><th>confkey</th><th>conpfeqop</th><th>conppeqop</th><th>conffeqop</th><th>conexclop</th><th>conbin</th></tr><tr><td>25540</td><td>racs_pkey</td><td>25460</td><td>p</td><td>False</td><td>False</td><td>True</td><td>25500</td><td>0</td><td>25539</td><td>0</td><td>0</td><td> </td><td> </td><td> </td><td>True</td><td>0</td><td>True</td><td>[1]</td><td>NULL</td><td>NULL</td><td>NULL</td><td>NULL</td><td>NULL</td><td>NULL</td></tr></table>"
                    },
                    "metadata": {}
                }
            ],
            "execution_count": 211
        },
        {
            "cell_type": "code",
            "source": [
                "ALTER TABLE dsci_504.states\n",
                "ADD PRIMARY KEY (state_id);\n",
                "\n",
                "SELECT con.*\n",
                "    FROM pg_catalog.pg_constraint con\n",
                "        INNER JOIN pg_catalog.pg_class rel ON rel.oid = con.conrelid\n",
                "        INNER JOIN pg_catalog.pg_namespace nsp ON nsp.oid = connamespace\n",
                "        WHERE nsp.nspname = 'dsci_504'\n",
                "             AND rel.relname = 'states';"
            ],
            "metadata": {
                "language": "sql",
                "azdata_cell_guid": "d835223a-0628-4b64-bbba-c48cf437cef7"
            },
            "outputs": [
                {
                    "output_type": "display_data",
                    "data": {
                        "text/html": "Commands completed successfully"
                    },
                    "metadata": {}
                },
                {
                    "output_type": "display_data",
                    "data": {
                        "text/html": "(1 row(s) affected)"
                    },
                    "metadata": {}
                },
                {
                    "output_type": "display_data",
                    "data": {
                        "text/html": "Total execution time: 00:00:00.004"
                    },
                    "metadata": {}
                },
                {
                    "output_type": "execute_result",
                    "execution_count": 212,
                    "data": {
                        "application/vnd.dataresource+json": {
                            "schema": {
                                "fields": [
                                    {
                                        "name": "oid"
                                    },
                                    {
                                        "name": "conname"
                                    },
                                    {
                                        "name": "connamespace"
                                    },
                                    {
                                        "name": "contype"
                                    },
                                    {
                                        "name": "condeferrable"
                                    },
                                    {
                                        "name": "condeferred"
                                    },
                                    {
                                        "name": "convalidated"
                                    },
                                    {
                                        "name": "conrelid"
                                    },
                                    {
                                        "name": "contypid"
                                    },
                                    {
                                        "name": "conindid"
                                    },
                                    {
                                        "name": "conparentid"
                                    },
                                    {
                                        "name": "confrelid"
                                    },
                                    {
                                        "name": "confupdtype"
                                    },
                                    {
                                        "name": "confdeltype"
                                    },
                                    {
                                        "name": "confmatchtype"
                                    },
                                    {
                                        "name": "conislocal"
                                    },
                                    {
                                        "name": "coninhcount"
                                    },
                                    {
                                        "name": "connoinherit"
                                    },
                                    {
                                        "name": "conkey"
                                    },
                                    {
                                        "name": "confkey"
                                    },
                                    {
                                        "name": "conpfeqop"
                                    },
                                    {
                                        "name": "conppeqop"
                                    },
                                    {
                                        "name": "conffeqop"
                                    },
                                    {
                                        "name": "conexclop"
                                    },
                                    {
                                        "name": "conbin"
                                    }
                                ]
                            },
                            "data": [
                                {
                                    "0": "25542",
                                    "1": "states_pkey",
                                    "2": "25460",
                                    "3": "p",
                                    "4": "False",
                                    "5": "False",
                                    "6": "True",
                                    "7": "25505",
                                    "8": "0",
                                    "9": "25541",
                                    "10": "0",
                                    "11": "0",
                                    "12": " ",
                                    "13": " ",
                                    "14": " ",
                                    "15": "True",
                                    "16": "0",
                                    "17": "True",
                                    "18": "[1]",
                                    "19": "NULL",
                                    "20": "NULL",
                                    "21": "NULL",
                                    "22": "NULL",
                                    "23": "NULL",
                                    "24": "NULL"
                                }
                            ]
                        },
                        "text/html": "<table><tr><th>oid</th><th>conname</th><th>connamespace</th><th>contype</th><th>condeferrable</th><th>condeferred</th><th>convalidated</th><th>conrelid</th><th>contypid</th><th>conindid</th><th>conparentid</th><th>confrelid</th><th>confupdtype</th><th>confdeltype</th><th>confmatchtype</th><th>conislocal</th><th>coninhcount</th><th>connoinherit</th><th>conkey</th><th>confkey</th><th>conpfeqop</th><th>conppeqop</th><th>conffeqop</th><th>conexclop</th><th>conbin</th></tr><tr><td>25542</td><td>states_pkey</td><td>25460</td><td>p</td><td>False</td><td>False</td><td>True</td><td>25505</td><td>0</td><td>25541</td><td>0</td><td>0</td><td> </td><td> </td><td> </td><td>True</td><td>0</td><td>True</td><td>[1]</td><td>NULL</td><td>NULL</td><td>NULL</td><td>NULL</td><td>NULL</td><td>NULL</td></tr></table>"
                    },
                    "metadata": {}
                }
            ],
            "execution_count": 212
        },
        {
            "cell_type": "code",
            "source": [
                "ALTER TABLE dsci_504.suppliers\n",
                "ADD PRIMARY KEY (sup_id);\n",
                "\n",
                "SELECT con.*\n",
                "    FROM pg_catalog.pg_constraint con\n",
                "        INNER JOIN pg_catalog.pg_class rel ON rel.oid = con.conrelid\n",
                "        INNER JOIN pg_catalog.pg_namespace nsp ON nsp.oid = connamespace\n",
                "        WHERE nsp.nspname = 'dsci_504'\n",
                "             AND rel.relname = 'suppliers';"
            ],
            "metadata": {
                "language": "sql",
                "azdata_cell_guid": "40c78283-2fbe-4036-b716-655afb4b619f"
            },
            "outputs": [
                {
                    "output_type": "display_data",
                    "data": {
                        "text/html": "Commands completed successfully"
                    },
                    "metadata": {}
                },
                {
                    "output_type": "display_data",
                    "data": {
                        "text/html": "(1 row(s) affected)"
                    },
                    "metadata": {}
                },
                {
                    "output_type": "display_data",
                    "data": {
                        "text/html": "Total execution time: 00:00:00.004"
                    },
                    "metadata": {}
                },
                {
                    "output_type": "execute_result",
                    "execution_count": 213,
                    "data": {
                        "application/vnd.dataresource+json": {
                            "schema": {
                                "fields": [
                                    {
                                        "name": "oid"
                                    },
                                    {
                                        "name": "conname"
                                    },
                                    {
                                        "name": "connamespace"
                                    },
                                    {
                                        "name": "contype"
                                    },
                                    {
                                        "name": "condeferrable"
                                    },
                                    {
                                        "name": "condeferred"
                                    },
                                    {
                                        "name": "convalidated"
                                    },
                                    {
                                        "name": "conrelid"
                                    },
                                    {
                                        "name": "contypid"
                                    },
                                    {
                                        "name": "conindid"
                                    },
                                    {
                                        "name": "conparentid"
                                    },
                                    {
                                        "name": "confrelid"
                                    },
                                    {
                                        "name": "confupdtype"
                                    },
                                    {
                                        "name": "confdeltype"
                                    },
                                    {
                                        "name": "confmatchtype"
                                    },
                                    {
                                        "name": "conislocal"
                                    },
                                    {
                                        "name": "coninhcount"
                                    },
                                    {
                                        "name": "connoinherit"
                                    },
                                    {
                                        "name": "conkey"
                                    },
                                    {
                                        "name": "confkey"
                                    },
                                    {
                                        "name": "conpfeqop"
                                    },
                                    {
                                        "name": "conppeqop"
                                    },
                                    {
                                        "name": "conffeqop"
                                    },
                                    {
                                        "name": "conexclop"
                                    },
                                    {
                                        "name": "conbin"
                                    }
                                ]
                            },
                            "data": [
                                {
                                    "0": "25544",
                                    "1": "suppliers_pkey",
                                    "2": "25460",
                                    "3": "p",
                                    "4": "False",
                                    "5": "False",
                                    "6": "True",
                                    "7": "25508",
                                    "8": "0",
                                    "9": "25543",
                                    "10": "0",
                                    "11": "0",
                                    "12": " ",
                                    "13": " ",
                                    "14": " ",
                                    "15": "True",
                                    "16": "0",
                                    "17": "True",
                                    "18": "[1]",
                                    "19": "NULL",
                                    "20": "NULL",
                                    "21": "NULL",
                                    "22": "NULL",
                                    "23": "NULL",
                                    "24": "NULL"
                                }
                            ]
                        },
                        "text/html": "<table><tr><th>oid</th><th>conname</th><th>connamespace</th><th>contype</th><th>condeferrable</th><th>condeferred</th><th>convalidated</th><th>conrelid</th><th>contypid</th><th>conindid</th><th>conparentid</th><th>confrelid</th><th>confupdtype</th><th>confdeltype</th><th>confmatchtype</th><th>conislocal</th><th>coninhcount</th><th>connoinherit</th><th>conkey</th><th>confkey</th><th>conpfeqop</th><th>conppeqop</th><th>conffeqop</th><th>conexclop</th><th>conbin</th></tr><tr><td>25544</td><td>suppliers_pkey</td><td>25460</td><td>p</td><td>False</td><td>False</td><td>True</td><td>25508</td><td>0</td><td>25543</td><td>0</td><td>0</td><td> </td><td> </td><td> </td><td>True</td><td>0</td><td>True</td><td>[1]</td><td>NULL</td><td>NULL</td><td>NULL</td><td>NULL</td><td>NULL</td><td>NULL</td></tr></table>"
                    },
                    "metadata": {}
                }
            ],
            "execution_count": 213
        },
        {
            "cell_type": "code",
            "source": [
                "ALTER TABLE dsci_504.taxes\n",
                "ADD PRIMARY KEY (tax_id);\n",
                "\n",
                "SELECT con.*\n",
                "    FROM pg_catalog.pg_constraint con\n",
                "        INNER JOIN pg_catalog.pg_class rel ON rel.oid = con.conrelid\n",
                "        INNER JOIN pg_catalog.pg_namespace nsp ON nsp.oid = connamespace\n",
                "        WHERE nsp.nspname = 'dsci_504'\n",
                "             AND rel.relname = 'taxes';"
            ],
            "metadata": {
                "language": "sql",
                "azdata_cell_guid": "ff150817-8f4d-4db1-a0b2-bb27443a0f07"
            },
            "outputs": [
                {
                    "output_type": "display_data",
                    "data": {
                        "text/html": "Commands completed successfully"
                    },
                    "metadata": {}
                },
                {
                    "output_type": "display_data",
                    "data": {
                        "text/html": "(1 row(s) affected)"
                    },
                    "metadata": {}
                },
                {
                    "output_type": "display_data",
                    "data": {
                        "text/html": "Total execution time: 00:00:00.010"
                    },
                    "metadata": {}
                },
                {
                    "output_type": "execute_result",
                    "execution_count": 242,
                    "data": {
                        "application/vnd.dataresource+json": {
                            "schema": {
                                "fields": [
                                    {
                                        "name": "oid"
                                    },
                                    {
                                        "name": "conname"
                                    },
                                    {
                                        "name": "connamespace"
                                    },
                                    {
                                        "name": "contype"
                                    },
                                    {
                                        "name": "condeferrable"
                                    },
                                    {
                                        "name": "condeferred"
                                    },
                                    {
                                        "name": "convalidated"
                                    },
                                    {
                                        "name": "conrelid"
                                    },
                                    {
                                        "name": "contypid"
                                    },
                                    {
                                        "name": "conindid"
                                    },
                                    {
                                        "name": "conparentid"
                                    },
                                    {
                                        "name": "confrelid"
                                    },
                                    {
                                        "name": "confupdtype"
                                    },
                                    {
                                        "name": "confdeltype"
                                    },
                                    {
                                        "name": "confmatchtype"
                                    },
                                    {
                                        "name": "conislocal"
                                    },
                                    {
                                        "name": "coninhcount"
                                    },
                                    {
                                        "name": "connoinherit"
                                    },
                                    {
                                        "name": "conkey"
                                    },
                                    {
                                        "name": "confkey"
                                    },
                                    {
                                        "name": "conpfeqop"
                                    },
                                    {
                                        "name": "conppeqop"
                                    },
                                    {
                                        "name": "conffeqop"
                                    },
                                    {
                                        "name": "conexclop"
                                    },
                                    {
                                        "name": "conbin"
                                    }
                                ]
                            },
                            "data": [
                                {
                                    "0": "25640",
                                    "1": "taxes_pkey",
                                    "2": "25460",
                                    "3": "p",
                                    "4": "False",
                                    "5": "False",
                                    "6": "True",
                                    "7": "25511",
                                    "8": "0",
                                    "9": "25639",
                                    "10": "0",
                                    "11": "0",
                                    "12": " ",
                                    "13": " ",
                                    "14": " ",
                                    "15": "True",
                                    "16": "0",
                                    "17": "True",
                                    "18": "[1]",
                                    "19": "NULL",
                                    "20": "NULL",
                                    "21": "NULL",
                                    "22": "NULL",
                                    "23": "NULL",
                                    "24": "NULL"
                                }
                            ]
                        },
                        "text/html": "<table><tr><th>oid</th><th>conname</th><th>connamespace</th><th>contype</th><th>condeferrable</th><th>condeferred</th><th>convalidated</th><th>conrelid</th><th>contypid</th><th>conindid</th><th>conparentid</th><th>confrelid</th><th>confupdtype</th><th>confdeltype</th><th>confmatchtype</th><th>conislocal</th><th>coninhcount</th><th>connoinherit</th><th>conkey</th><th>confkey</th><th>conpfeqop</th><th>conppeqop</th><th>conffeqop</th><th>conexclop</th><th>conbin</th></tr><tr><td>25640</td><td>taxes_pkey</td><td>25460</td><td>p</td><td>False</td><td>False</td><td>True</td><td>25511</td><td>0</td><td>25639</td><td>0</td><td>0</td><td> </td><td> </td><td> </td><td>True</td><td>0</td><td>True</td><td>[1]</td><td>NULL</td><td>NULL</td><td>NULL</td><td>NULL</td><td>NULL</td><td>NULL</td></tr></table>"
                    },
                    "metadata": {}
                }
            ],
            "execution_count": 242
        },
        {
            "cell_type": "code",
            "source": [
                "ALTER TABLE dsci_504.warehouses\n",
                "ADD PRIMARY KEY (warehouse_id);\n",
                "\n",
                "SELECT con.*\n",
                "    FROM pg_catalog.pg_constraint con\n",
                "        INNER JOIN pg_catalog.pg_class rel ON rel.oid = con.conrelid\n",
                "        INNER JOIN pg_catalog.pg_namespace nsp ON nsp.oid = connamespace\n",
                "        WHERE nsp.nspname = 'dsci_504'\n",
                "             AND rel.relname = 'warehouses';"
            ],
            "metadata": {
                "language": "sql",
                "azdata_cell_guid": "a27cdfaa-9dcd-40a7-ba64-2ee53e12ef2b"
            },
            "outputs": [
                {
                    "output_type": "display_data",
                    "data": {
                        "text/html": "Commands completed successfully"
                    },
                    "metadata": {}
                },
                {
                    "output_type": "display_data",
                    "data": {
                        "text/html": "(1 row(s) affected)"
                    },
                    "metadata": {}
                },
                {
                    "output_type": "display_data",
                    "data": {
                        "text/html": "Total execution time: 00:00:00.004"
                    },
                    "metadata": {}
                },
                {
                    "output_type": "execute_result",
                    "execution_count": 215,
                    "data": {
                        "application/vnd.dataresource+json": {
                            "schema": {
                                "fields": [
                                    {
                                        "name": "oid"
                                    },
                                    {
                                        "name": "conname"
                                    },
                                    {
                                        "name": "connamespace"
                                    },
                                    {
                                        "name": "contype"
                                    },
                                    {
                                        "name": "condeferrable"
                                    },
                                    {
                                        "name": "condeferred"
                                    },
                                    {
                                        "name": "convalidated"
                                    },
                                    {
                                        "name": "conrelid"
                                    },
                                    {
                                        "name": "contypid"
                                    },
                                    {
                                        "name": "conindid"
                                    },
                                    {
                                        "name": "conparentid"
                                    },
                                    {
                                        "name": "confrelid"
                                    },
                                    {
                                        "name": "confupdtype"
                                    },
                                    {
                                        "name": "confdeltype"
                                    },
                                    {
                                        "name": "confmatchtype"
                                    },
                                    {
                                        "name": "conislocal"
                                    },
                                    {
                                        "name": "coninhcount"
                                    },
                                    {
                                        "name": "connoinherit"
                                    },
                                    {
                                        "name": "conkey"
                                    },
                                    {
                                        "name": "confkey"
                                    },
                                    {
                                        "name": "conpfeqop"
                                    },
                                    {
                                        "name": "conppeqop"
                                    },
                                    {
                                        "name": "conffeqop"
                                    },
                                    {
                                        "name": "conexclop"
                                    },
                                    {
                                        "name": "conbin"
                                    }
                                ]
                            },
                            "data": [
                                {
                                    "0": "25548",
                                    "1": "warehouses_pkey",
                                    "2": "25460",
                                    "3": "p",
                                    "4": "False",
                                    "5": "False",
                                    "6": "True",
                                    "7": "25516",
                                    "8": "0",
                                    "9": "25547",
                                    "10": "0",
                                    "11": "0",
                                    "12": " ",
                                    "13": " ",
                                    "14": " ",
                                    "15": "True",
                                    "16": "0",
                                    "17": "True",
                                    "18": "[1]",
                                    "19": "NULL",
                                    "20": "NULL",
                                    "21": "NULL",
                                    "22": "NULL",
                                    "23": "NULL",
                                    "24": "NULL"
                                }
                            ]
                        },
                        "text/html": "<table><tr><th>oid</th><th>conname</th><th>connamespace</th><th>contype</th><th>condeferrable</th><th>condeferred</th><th>convalidated</th><th>conrelid</th><th>contypid</th><th>conindid</th><th>conparentid</th><th>confrelid</th><th>confupdtype</th><th>confdeltype</th><th>confmatchtype</th><th>conislocal</th><th>coninhcount</th><th>connoinherit</th><th>conkey</th><th>confkey</th><th>conpfeqop</th><th>conppeqop</th><th>conffeqop</th><th>conexclop</th><th>conbin</th></tr><tr><td>25548</td><td>warehouses_pkey</td><td>25460</td><td>p</td><td>False</td><td>False</td><td>True</td><td>25516</td><td>0</td><td>25547</td><td>0</td><td>0</td><td> </td><td> </td><td> </td><td>True</td><td>0</td><td>True</td><td>[1]</td><td>NULL</td><td>NULL</td><td>NULL</td><td>NULL</td><td>NULL</td><td>NULL</td></tr></table>"
                    },
                    "metadata": {}
                }
            ],
            "execution_count": 215
        },
        {
            "cell_type": "code",
            "source": [
                "ALTER TABLE dsci_504.productbuilds\n",
                "ADD CONSTRAINT builds_fk\n",
                "FOREIGN KEY (build_id)\n",
                "REFERENCES dsci_504.builds (build_id);"
            ],
            "metadata": {
                "azdata_cell_guid": "0eb9d180-8981-4c64-a9b5-8a386ea3b017",
                "language": "sql"
            },
            "outputs": [
                {
                    "output_type": "display_data",
                    "data": {
                        "text/html": "Commands completed successfully"
                    },
                    "metadata": {}
                },
                {
                    "output_type": "display_data",
                    "data": {
                        "text/html": "Total execution time: 00:00:00.003"
                    },
                    "metadata": {}
                }
            ],
            "execution_count": 216
        },
        {
            "cell_type": "code",
            "source": [
                "ALTER TABLE dsci_504.racs\n",
                "ADD CONSTRAINT components_fk\n",
                "FOREIGN KEY (comp_id)\n",
                "REFERENCES dsci_504.components (comp_id);"
            ],
            "metadata": {
                "language": "sql",
                "azdata_cell_guid": "97b31b1e-6bec-4e65-956d-02c96f145387"
            },
            "outputs": [
                {
                    "output_type": "display_data",
                    "data": {
                        "text/html": "Commands completed successfully"
                    },
                    "metadata": {}
                },
                {
                    "output_type": "display_data",
                    "data": {
                        "text/html": "Total execution time: 00:00:00.003"
                    },
                    "metadata": {}
                }
            ],
            "execution_count": 217
        },
        {
            "cell_type": "code",
            "source": [
                "ALTER TABLE dsci_504.customerwarehouseorders\n",
                "ADD CONSTRAINT customers_fk\n",
                "FOREIGN KEY (cus_id)\n",
                "REFERENCES dsci_504.customers (cus_id);"
            ],
            "metadata": {
                "language": "sql",
                "azdata_cell_guid": "b5d35e36-cc3c-4a4c-928a-a3f24c0c5a6d"
            },
            "outputs": [
                {
                    "output_type": "display_data",
                    "data": {
                        "text/html": "Commands completed successfully"
                    },
                    "metadata": {}
                },
                {
                    "output_type": "display_data",
                    "data": {
                        "text/html": "Total execution time: 00:00:00.003"
                    },
                    "metadata": {}
                }
            ],
            "execution_count": 218
        },
        {
            "cell_type": "code",
            "source": [
                "ALTER TABLE dsci_504.orders\n",
                "ADD CONSTRAINT customerwarehouseorders_fk\n",
                "FOREIGN KEY (ord_id)\n",
                "REFERENCES dsci_504.customerwarehouseorders (ord_id);"
            ],
            "metadata": {
                "language": "sql",
                "azdata_cell_guid": "ec246c2b-80d5-470d-a9d0-c67132ea37b1"
            },
            "outputs": [
                {
                    "output_type": "display_data",
                    "data": {
                        "text/html": "Commands completed successfully"
                    },
                    "metadata": {}
                },
                {
                    "output_type": "display_data",
                    "data": {
                        "text/html": "Total execution time: 00:00:00.006"
                    },
                    "metadata": {}
                }
            ],
            "execution_count": 219
        },
        {
            "cell_type": "code",
            "source": [
                "ALTER TABLE dsci_504.racs\n",
                "ADD CONSTRAINT customerwarehousereturns_fk\n",
                "FOREIGN KEY (rac_id)\n",
                "REFERENCES dsci_504.customerwarehousereturns (rac_id);"
            ],
            "metadata": {
                "language": "sql",
                "azdata_cell_guid": "c84f2e5b-2110-4e06-88f6-fb70fc717cff"
            },
            "outputs": [
                {
                    "output_type": "display_data",
                    "data": {
                        "text/html": "Commands completed successfully"
                    },
                    "metadata": {}
                },
                {
                    "output_type": "display_data",
                    "data": {
                        "text/html": "Total execution time: 00:00:00.005"
                    },
                    "metadata": {}
                }
            ],
            "execution_count": 220
        },
        {
            "cell_type": "code",
            "source": [
                "ALTER TABLE dsci_504.customerwarehouseorders\n",
                "ADD CONSTRAINT orders_fk\n",
                "FOREIGN KEY (ord_id)\n",
                "REFERENCES dsci_504.orders (ord_id);"
            ],
            "metadata": {
                "language": "sql",
                "azdata_cell_guid": "b6d60107-aaa7-49e9-9c33-c032d5628450"
            },
            "outputs": [
                {
                    "output_type": "display_data",
                    "data": {
                        "text/html": "Commands completed successfully"
                    },
                    "metadata": {}
                },
                {
                    "output_type": "display_data",
                    "data": {
                        "text/html": "Total execution time: 00:00:00.005"
                    },
                    "metadata": {}
                }
            ],
            "execution_count": 221
        },
        {
            "cell_type": "code",
            "source": [
                "ALTER TABLE dsci_504.orders\n",
                "ADD CONSTRAINT ordertaxes_fk\n",
                "FOREIGN KEY (ord_id)\n",
                "REFERENCES dsci_504.ordertaxes (ord_id);"
            ],
            "metadata": {
                "language": "sql",
                "azdata_cell_guid": "6a06f167-77fa-41d4-855e-ac791e6e417d"
            },
            "outputs": [
                {
                    "output_type": "display_data",
                    "data": {
                        "text/html": "Commands completed successfully"
                    },
                    "metadata": {}
                },
                {
                    "output_type": "display_data",
                    "data": {
                        "text/html": "Total execution time: 00:00:00.004"
                    },
                    "metadata": {}
                }
            ],
            "execution_count": 222
        },
        {
            "cell_type": "code",
            "source": [
                "ALTER TABLE dsci_504.products\n",
                "ADD CONSTRAINT productbuilds_fk\n",
                "FOREIGN KEY (prod_id)\n",
                "REFERENCES dsci_504.productbuilds (prod_id);"
            ],
            "metadata": {
                "language": "sql",
                "azdata_cell_guid": "4c7b6f51-854e-4a60-95c5-6e831dfc1f6e"
            },
            "outputs": [
                {
                    "output_type": "display_data",
                    "data": {
                        "text/html": "Commands completed successfully"
                    },
                    "metadata": {}
                },
                {
                    "output_type": "display_data",
                    "data": {
                        "text/html": "Total execution time: 00:00:00.002"
                    },
                    "metadata": {}
                }
            ],
            "execution_count": 223
        },
        {
            "cell_type": "code",
            "source": [
                "ALTER TABLE dsci_504.productbuilds\n",
                "ADD CONSTRAINT products_fk\n",
                "FOREIGN KEY (prod_id)\n",
                "REFERENCES dsci_504.products (prod_id);"
            ],
            "metadata": {
                "language": "sql",
                "azdata_cell_guid": "f1451535-0d79-415b-a2f9-5742cb681c69"
            },
            "outputs": [
                {
                    "output_type": "display_data",
                    "data": {
                        "text/html": "Commands completed successfully"
                    },
                    "metadata": {}
                },
                {
                    "output_type": "display_data",
                    "data": {
                        "text/html": "Total execution time: 00:00:00.001"
                    },
                    "metadata": {}
                }
            ],
            "execution_count": 224
        },
        {
            "cell_type": "code",
            "source": [
                "ALTER TABLE dsci_504.customerwarehousereturns\n",
                "ADD CONSTRAINT racs_fk\n",
                "FOREIGN KEY (rac_id)\n",
                "REFERENCES dsci_504.racs (rac_id);"
            ],
            "metadata": {
                "language": "sql",
                "azdata_cell_guid": "7413c157-f7b9-4c78-ad8f-1d889c48983f"
            },
            "outputs": [
                {
                    "output_type": "display_data",
                    "data": {
                        "text/html": "Commands completed successfully"
                    },
                    "metadata": {}
                },
                {
                    "output_type": "display_data",
                    "data": {
                        "text/html": "Total execution time: 00:00:00.002"
                    },
                    "metadata": {}
                }
            ],
            "execution_count": 225
        },
        {
            "cell_type": "code",
            "source": [
                "ALTER TABLE dsci_504.customers\n",
                "ADD CONSTRAINT states_fk\n",
                "FOREIGN KEY (cus_state)\n",
                "REFERENCES dsci_504.states (state_id);"
            ],
            "metadata": {
                "language": "sql",
                "azdata_cell_guid": "16049862-6071-4f80-bcc5-6ac5b9cfa67e"
            },
            "outputs": [
                {
                    "output_type": "display_data",
                    "data": {
                        "text/html": "Commands completed successfully"
                    },
                    "metadata": {}
                },
                {
                    "output_type": "display_data",
                    "data": {
                        "text/html": "Total execution time: 00:00:00.007"
                    },
                    "metadata": {}
                }
            ],
            "execution_count": 226
        },
        {
            "cell_type": "code",
            "source": [
                "ALTER TABLE dsci_504.products\n",
                "ADD CONSTRAINT suppliers_fk\n",
                "FOREIGN KEY (sup_id)\n",
                "REFERENCES dsci_504.suppliers (sup_id);"
            ],
            "metadata": {
                "language": "sql",
                "azdata_cell_guid": "2b06092a-d81b-4fcc-8a9f-51cd209465a3"
            },
            "outputs": [
                {
                    "output_type": "display_data",
                    "data": {
                        "text/html": "Commands completed successfully"
                    },
                    "metadata": {}
                },
                {
                    "output_type": "display_data",
                    "data": {
                        "text/html": "Total execution time: 00:00:00.006"
                    },
                    "metadata": {}
                }
            ],
            "execution_count": 227
        },
        {
            "cell_type": "code",
            "source": [
                "ALTER TABLE dsci_504.states\n",
                "ADD CONSTRAINT taxes_fk\n",
                "FOREIGN KEY (state_id)\n",
                "REFERENCES dsci_504.taxes (tax_id);"
            ],
            "metadata": {
                "language": "sql",
                "azdata_cell_guid": "0c0e6fcd-aecc-4a6b-b463-aaadb4ce7b52"
            },
            "outputs": [
                {
                    "output_type": "display_data",
                    "data": {
                        "text/html": "Commands completed successfully"
                    },
                    "metadata": {}
                },
                {
                    "output_type": "display_data",
                    "data": {
                        "text/html": "Total execution time: 00:00:00.003"
                    },
                    "metadata": {}
                }
            ],
            "execution_count": 243
        },
        {
            "cell_type": "code",
            "source": [
                "ALTER TABLE dsci_504.customerwarehouseorders\n",
                "ADD CONSTRAINT warehouses_fk\n",
                "FOREIGN KEY (warehouse_id)\n",
                "REFERENCES dsci_504.warehouses (warehouse_id);"
            ],
            "metadata": {
                "language": "sql",
                "azdata_cell_guid": "deb6fe87-85f3-40a1-bec2-30c3f4237386",
                "tags": [
                    "hide_input"
                ]
            },
            "outputs": [
                {
                    "output_type": "display_data",
                    "data": {
                        "text/html": "Commands completed successfully"
                    },
                    "metadata": {}
                },
                {
                    "output_type": "display_data",
                    "data": {
                        "text/html": "Total execution time: 00:00:00.004"
                    },
                    "metadata": {}
                }
            ],
            "execution_count": 244
        },
        {
            "cell_type": "markdown",
            "source": [
                "## **Test Queries**"
            ],
            "metadata": {
                "azdata_cell_guid": "0339e4e7-e0c7-44fa-9b83-7e3f18d9ed70"
            },
            "attachments": {}
        },
        {
            "cell_type": "code",
            "source": [
                "UPDATE dsci_504.taxes\n",
                "SET tax_rate = 3\n",
                "WHERE tax_location = 'AK';\n",
                "\n",
                "SELECT *\n",
                "FROM dsci_504.taxes\n",
                "WHERE tax_location = 'AK';"
            ],
            "metadata": {
                "azdata_cell_guid": "0608b4b0-be1f-45bd-88b4-3d583dba81f1",
                "language": "sql",
                "tags": []
            },
            "outputs": [
                {
                    "output_type": "display_data",
                    "data": {
                        "text/html": "Commands completed successfully"
                    },
                    "metadata": {}
                },
                {
                    "output_type": "display_data",
                    "data": {
                        "text/html": "(1 row(s) affected)"
                    },
                    "metadata": {}
                },
                {
                    "output_type": "display_data",
                    "data": {
                        "text/html": "Total execution time: 00:00:00.007"
                    },
                    "metadata": {}
                },
                {
                    "output_type": "execute_result",
                    "execution_count": 248,
                    "data": {
                        "application/vnd.dataresource+json": {
                            "schema": {
                                "fields": [
                                    {
                                        "name": "tax_id"
                                    },
                                    {
                                        "name": "tax_location"
                                    },
                                    {
                                        "name": "tax_rate"
                                    }
                                ]
                            },
                            "data": [
                                {
                                    "0": "1",
                                    "1": "AK",
                                    "2": "3"
                                }
                            ]
                        },
                        "text/html": "<table><tr><th>tax_id</th><th>tax_location</th><th>tax_rate</th></tr><tr><td>1</td><td>AK</td><td>3</td></tr></table>"
                    },
                    "metadata": {}
                }
            ],
            "execution_count": 248
        },
        {
            "cell_type": "code",
            "source": [
                "SELECT c.cus_id\n",
                "    ,c.cus_last_name\n",
                "    ,c.cus_first_name\n",
                "    ,c.tot_ord_qty\n",
                "    ,c.tot_ord_value\n",
                "FROM dsci_504.customers AS c\n",
                "ORDER BY tot_ord_value DESC\n",
                "LIMIT 10;\n",
                ""
            ],
            "metadata": {
                "language": "sql",
                "azdata_cell_guid": "e09d3914-8aca-4abd-91bf-e26c1be1af5e",
                "tags": []
            },
            "outputs": [
                {
                    "output_type": "display_data",
                    "data": {
                        "text/html": "(10 row(s) affected)"
                    },
                    "metadata": {}
                },
                {
                    "output_type": "display_data",
                    "data": {
                        "text/html": "Total execution time: 00:00:00.005"
                    },
                    "metadata": {}
                },
                {
                    "output_type": "execute_result",
                    "execution_count": 253,
                    "data": {
                        "application/vnd.dataresource+json": {
                            "schema": {
                                "fields": [
                                    {
                                        "name": "cus_id"
                                    },
                                    {
                                        "name": "cus_last_name"
                                    },
                                    {
                                        "name": "cus_first_name"
                                    },
                                    {
                                        "name": "tot_ord_qty"
                                    },
                                    {
                                        "name": "tot_ord_value"
                                    }
                                ]
                            },
                            "data": [
                                {
                                    "0": "1101",
                                    "1": "Connery",
                                    "2": "Reginald",
                                    "3": "63",
                                    "4": "35905"
                                },
                                {
                                    "0": "694",
                                    "1": "Cooper",
                                    "2": "Piper",
                                    "3": "44",
                                    "4": "35902"
                                },
                                {
                                    "0": "1353",
                                    "1": "Rice",
                                    "2": "Margo",
                                    "3": "14",
                                    "4": "35887"
                                },
                                {
                                    "0": "2193",
                                    "1": "Smith",
                                    "2": "Cooper",
                                    "3": "59",
                                    "4": "35881"
                                },
                                {
                                    "0": "318",
                                    "1": "Conley",
                                    "2": "Corey",
                                    "3": "87",
                                    "4": "35879"
                                },
                                {
                                    "0": "1868",
                                    "1": "Roberts",
                                    "2": "Samuel",
                                    "3": "15",
                                    "4": "35877"
                                },
                                {
                                    "0": "1153",
                                    "1": "Manchester",
                                    "2": "Aaron",
                                    "3": "14",
                                    "4": "35854"
                                },
                                {
                                    "0": "1461",
                                    "1": "Hart",
                                    "2": "Mads",
                                    "3": "26",
                                    "4": "35845"
                                },
                                {
                                    "0": "1412",
                                    "1": "Sherman",
                                    "2": "Kristoff",
                                    "3": "11",
                                    "4": "35831"
                                },
                                {
                                    "0": "1960",
                                    "1": "Jamieson",
                                    "2": "Jonathon",
                                    "3": "13",
                                    "4": "35829"
                                }
                            ]
                        },
                        "text/html": "<table><tr><th>cus_id</th><th>cus_last_name</th><th>cus_first_name</th><th>tot_ord_qty</th><th>tot_ord_value</th></tr><tr><td>1101</td><td>Connery</td><td>Reginald</td><td>63</td><td>35905</td></tr><tr><td>694</td><td>Cooper</td><td>Piper</td><td>44</td><td>35902</td></tr><tr><td>1353</td><td>Rice</td><td>Margo</td><td>14</td><td>35887</td></tr><tr><td>2193</td><td>Smith</td><td>Cooper</td><td>59</td><td>35881</td></tr><tr><td>318</td><td>Conley</td><td>Corey</td><td>87</td><td>35879</td></tr><tr><td>1868</td><td>Roberts</td><td>Samuel</td><td>15</td><td>35877</td></tr><tr><td>1153</td><td>Manchester</td><td>Aaron</td><td>14</td><td>35854</td></tr><tr><td>1461</td><td>Hart</td><td>Mads</td><td>26</td><td>35845</td></tr><tr><td>1412</td><td>Sherman</td><td>Kristoff</td><td>11</td><td>35831</td></tr><tr><td>1960</td><td>Jamieson</td><td>Jonathon</td><td>13</td><td>35829</td></tr></table>"
                    },
                    "metadata": {}
                }
            ],
            "execution_count": 253
        }
    ]
}